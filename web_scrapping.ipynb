{
 "cells": [
  {
   "cell_type": "markdown",
   "metadata": {},
   "source": [
    "# Web Scrapping laboratório aplicada"
   ]
  },
  {
   "cell_type": "code",
   "execution_count": 1,
   "metadata": {},
   "outputs": [],
   "source": [
    "import requests\n",
    "from bs4 import BeautifulSoup"
   ]
  },
  {
   "cell_type": "markdown",
   "metadata": {},
   "source": [
    "### Para nosso projeto iremos retirar os dados do site Project Gutenberg, este é um repositório de livros."
   ]
  },
  {
   "cell_type": "code",
   "execution_count": 9,
   "metadata": {},
   "outputs": [],
   "source": [
    "#url do site que vamos fazer o web scrapping iremos variar os livros de acordo com ordem alfabética\n",
    "url = \"https://www.gutenberg.org/browse/titles/a\"\n",
    "\n",
    "# Cabeçalho para simular um navegador\n",
    "headers = {\n",
    "    \"User-Agent\": \"Mozilla/5.0 (Windows NT 10.0; Win64; x64) AppleWebKit/537.36 (KHTML, like Gecko) Chrome/117.0.0.0 Safari/537.36\"\n",
    "}"
   ]
  },
  {
   "cell_type": "code",
   "execution_count": 10,
   "metadata": {},
   "outputs": [
    {
     "data": {
      "text/plain": [
       "<Response [200]>"
      ]
     },
     "execution_count": 10,
     "metadata": {},
     "output_type": "execute_result"
    }
   ],
   "source": [
    "response = requests.get(url, headers=headers)\n",
    "response # https://www.w3schools.com/tags/ref_httpmessages.asp -- 200 é bom"
   ]
  },
  {
   "cell_type": "code",
   "execution_count": null,
   "metadata": {},
   "outputs": [],
   "source": [
    "soup = BeautifulSoup(response.text, \"html.parser\")\n",
    "soup # eu não estou colocando as saidas pq elas tao mto grandes"
   ]
  },
  {
   "cell_type": "markdown",
   "metadata": {},
   "source": [
    "#### Nesse ponto normalmente temos que encontrar padrões, nesse site, os livros dados da seguinte forma.\n",
    "\n",
    "     <div class=\"pgdbbytitle\">\n",
    "\n",
    "     <h2><a href=\"/ebooks/66447\">The Aab</a> (English)</h2>\n",
    "     <p>by <a href=\"/browse/authors/l#a35976\">Ludwig, Edward W.</a></p>"
   ]
  },
  {
   "cell_type": "code",
   "execution_count": null,
   "metadata": {},
   "outputs": [],
   "source": [
    "bloco_livros = soup.find(\"div\", class_ = \"pgdbbytitle\")\n",
    "\n",
    "bloco_livros"
   ]
  },
  {
   "cell_type": "code",
   "execution_count": null,
   "metadata": {},
   "outputs": [],
   "source": [
    "links = [a[\"href\"] for a in bloco_livros.find_all(\"a\", href = True)]\n",
    "\n",
    "links"
   ]
  },
  {
   "cell_type": "code",
   "execution_count": null,
   "metadata": {},
   "outputs": [],
   "source": [
    "# Na saída acima também vieram os links dos autores, que no caso não é algo que queremos então temos que tirar os que temos eles.\n",
    "\n",
    "links_ebooks = [books for books in links if \"ebooks\" in books]\n",
    "print(f\"Foram obtidos {len(links_ebooks)} links de livros começando com letra A \")\n",
    "links_ebooks"
   ]
  },
  {
   "cell_type": "code",
   "execution_count": null,
   "metadata": {},
   "outputs": [],
   "source": [
    "# Agora já temos os links para abrir as informações de cada um dos livros que é da forma \n",
    "# https://www.gutenberg.org/ + {link dos ebooks}"
   ]
  },
  {
   "cell_type": "code",
   "execution_count": 27,
   "metadata": {},
   "outputs": [
    {
     "data": {
      "text/plain": [
       "<Response [200]>"
      ]
     },
     "execution_count": 27,
     "metadata": {},
     "output_type": "execute_result"
    }
   ],
   "source": [
    "base_url = \"https://www.gutenberg.org\"\n",
    "\n",
    "full_url = base_url + links_ebooks[0]\n",
    "response = requests.get(full_url, headers= headers)\n",
    "response"
   ]
  },
  {
   "cell_type": "code",
   "execution_count": 28,
   "metadata": {},
   "outputs": [
    {
     "data": {
      "text/plain": [
       "'https://www.gutenberg.org/ebooks/66447'"
      ]
     },
     "execution_count": 28,
     "metadata": {},
     "output_type": "execute_result"
    }
   ],
   "source": [
    "full_url"
   ]
  },
  {
   "cell_type": "code",
   "execution_count": null,
   "metadata": {},
   "outputs": [],
   "source": [
    "soup = BeautifulSoup(response.text, \"html.parser\")\n",
    "soup"
   ]
  },
  {
   "cell_type": "code",
   "execution_count": null,
   "metadata": {},
   "outputs": [],
   "source": [
    "print(soup.get_text(separator=\"\\n\").strip())"
   ]
  },
  {
   "cell_type": "code",
   "execution_count": null,
   "metadata": {},
   "outputs": [],
   "source": [
    "titulo = soup.find('td', itemprop='headline').get_text(strip=True)\n",
    "print(titulo)\n",
    "\n",
    "autor = soup.find('a', itemprop = 'creator').get_text(strip = True)\n",
    "print(autor)\n",
    "\n",
    "# no caso da publicação original no html ela n tem um objeto tipo itemprop que tem nos outros então a gente acha o \n",
    "# Original publication que esta dentro de um th e dps pega o proximo objeto td dele\n",
    "elemento_th = soup.find('th', string = lambda text: text and \"Original Publication\" in text)\n",
    "elemento_td = elemento_th.find_next_sibling('td')\n",
    "Publicacao = elemento_td.get_text(strip=True)\n",
    "print(Publicacao)\n",
    "\n",
    "#Mesma coisa do de cima\n",
    "th_summary = soup.find('th', string = lambda text: text and \"Summary\" in text)\n",
    "td_summary = th_summary.find_next_sibling('td')\n",
    "resumo = td_summary.get_text(strip = True)\n",
    "print(resumo)\n",
    "\n",
    "th_idioma = soup.find('th', string = 'Language')\n",
    "td_idioma = th_idioma.find_next_sibling('td')\n",
    "idioma = td_idioma.get_text(strip = True)\n",
    "print(idioma)\n",
    "\n",
    "elementos = soup.find_all('td', property = 'dcterms:subject')\n",
    "temas = [a.get_text(strip = True) for a in elementos]\n",
    "print(temas)\n",
    "\n",
    "categoria = soup.find('td', datatype = \"dcterms:DCMIType\").get_text(strip = True)\n",
    "print(categoria)\n",
    "\n"
   ]
  },
  {
   "cell_type": "code",
   "execution_count": 63,
   "metadata": {},
   "outputs": [],
   "source": [
    "# Agora vamos tentar pegar mta informação mas sem ferrar o site e tentar n tomar block\n",
    "\n",
    "import time\n",
    "import random\n",
    "import string"
   ]
  },
  {
   "cell_type": "code",
   "execution_count": 64,
   "metadata": {},
   "outputs": [
    {
     "name": "stdout",
     "output_type": "stream",
     "text": [
      "a <Response [200]>\n",
      "b <Response [200]>\n",
      "c <Response [200]>\n",
      "d <Response [200]>\n",
      "e <Response [200]>\n",
      "f <Response [200]>\n",
      "g <Response [200]>\n",
      "h <Response [200]>\n",
      "i <Response [200]>\n",
      "j <Response [200]>\n",
      "k <Response [200]>\n",
      "l <Response [200]>\n",
      "m <Response [200]>\n",
      "n <Response [200]>\n",
      "o <Response [200]>\n",
      "p <Response [200]>\n",
      "q <Response [200]>\n",
      "r <Response [200]>\n",
      "s <Response [200]>\n",
      "t <Response [200]>\n",
      "u <Response [200]>\n",
      "v <Response [200]>\n",
      "w <Response [200]>\n",
      "x <Response [200]>\n",
      "y <Response [200]>\n",
      "z <Response [200]>\n"
     ]
    }
   ],
   "source": [
    "letras = list(string.ascii_lowercase)\n",
    "\n",
    "links_livros = []\n",
    "\n",
    "for l in letras:\n",
    "    url = f\"https://www.gutenberg.org/browse/titles/{l}\"\n",
    "    response = requests.get(url, headers=headers)\n",
    "    print(l, response)\n",
    "\n",
    "    soup = BeautifulSoup(response.text, 'html.parser')\n",
    "    bloco_livros = soup.find(\"div\", class_ = \"pgdbbytitle\")\n",
    "\n",
    "    links = [a['href'] for a in bloco_livros.find_all('a', href = True)]\n",
    "    links_ebooks = [books for books in links if \"ebooks\" in books]\n",
    "\n",
    "    links_livros += links_ebooks\n",
    "\n",
    "    # Esperar alguns segundos antes de ir para a próxima página\n",
    "    tempo_espera = random.uniform(0, 10)\n",
    "    time.sleep(tempo_espera)"
   ]
  },
  {
   "cell_type": "code",
   "execution_count": 96,
   "metadata": {},
   "outputs": [],
   "source": [
    "len(links_livros) # 102110 links é muito, portanto vou sortear 2500 aleatoriamente\n",
    "\n",
    "random.seed(1122) \n",
    "links_sorteados = random.sample(links_livros, 2500)\n",
    "\n"
   ]
  },
  {
   "cell_type": "code",
   "execution_count": 104,
   "metadata": {},
   "outputs": [],
   "source": [
    "#no fim decidi pegar mais links pra ficar com um dataset meio grande então vou pegar mais 2500\n",
    "mais_links = [link for link in links_livros if link not in links_sorteados]\n",
    "\n",
    "random.seed(1122) \n",
    "links_sorteados_2 = random.sample(mais_links, 2500) \n",
    "# so não esquecer de arrumar os filenames pra cima de 2501"
   ]
  },
  {
   "cell_type": "code",
   "execution_count": null,
   "metadata": {},
   "outputs": [],
   "source": [
    "import json\n",
    "import pathlib\n",
    "\n",
    "data_dir = pathlib.Path(\"data\")\n",
    "data_dir.mkdir(exist_ok = True)\n",
    "\n",
    "for i, link in enumerate(links_sorteados_2):\n",
    "\n",
    "    base_url = \"https://www.gutenberg.org\"\n",
    "    full_url = base_url + link\n",
    "    response = requests.get(full_url, headers=headers)\n",
    "\n",
    "    soup = BeautifulSoup(response.text, \"html.parser\")\n",
    "\n",
    "    categoria = soup.find('td', datatype = \"dcterms:DCMIType\").get_text(strip = True)\n",
    "\n",
    "    if categoria == \"Text\":\n",
    "\n",
    "        titulo = soup.find('td', itemprop='headline')\n",
    "        if titulo != None:\n",
    "            titulo = titulo.get_text(strip=True)\n",
    "        else:\n",
    "            titulo = \"Não foi possível obter\"\n",
    "\n",
    "        autor = soup.find('a', itemprop = 'creator')\n",
    "        if autor != None:\n",
    "            autor = autor.get_text(strip = True)\n",
    "        else:\n",
    "            autor = \"Não foi possível obter\"\n",
    "\n",
    "        # no caso do sumario no html ele n tem um objeto tipo itemprop que tem nos outros então a gente acha o \n",
    "        # Original publication que esta dentro de um th e dps pega o proximo objeto td dele\n",
    "        th_summary = soup.find('th', string = lambda text: text and \"Summary\" in text)\n",
    "        if th_summary != None:\n",
    "            td_summary = th_summary.find_next_sibling('td')\n",
    "            resumo = td_summary.get_text(strip = True)\n",
    "        else:\n",
    "            resumo = \"Não foi possível obter\"\n",
    "\n",
    "        th_idioma = soup.find('th', string = 'Language')\n",
    "        if th_idioma != None:\n",
    "            td_idioma = th_idioma.find_next_sibling('td')\n",
    "            idioma = td_idioma.get_text(strip = True)\n",
    "        else:\n",
    "            idioma = \"Não foi possível obter\"\n",
    "\n",
    "        elementos = soup.find_all('td', property = 'dcterms:subject')\n",
    "        if elementos == None:\n",
    "            temas = \"Não foi possível obter\"\n",
    "        else:\n",
    "            temas = [a.get_text(strip = True) for a in elementos]\n",
    "\n",
    "        informacoes = {\"url\": full_url,\n",
    "                    \"autor\": autor,\n",
    "                    \"titulo\": titulo,\n",
    "                    # \"publicacao\": Publicacao\n",
    "                    \"resumo\": resumo,\n",
    "                    \"idioma\": idioma,\n",
    "                    \"temas\": temas\n",
    "                    }\n",
    "    \n",
    "        filename = f\"livro {i}.json\"\n",
    "        file_path = data_dir / filename\n",
    "        with file_path.open('w', encoding= 'utf-8') as f:\n",
    "            json.dump(informacoes, f, ensure_ascii = False, indent = 4)\n",
    "\n",
    "        print(f'Arquivo salvo: {file_path}')\n",
    "\n",
    "        tempo_espera = random.uniform(0, 1.5)\n",
    "        time.sleep(tempo_espera)\n",
    "    \n",
    "    else:\n",
    "        tempo_espera = random.uniform(0, 1.5)\n",
    "        time.sleep(tempo_espera)\n",
    "\n"
   ]
  },
  {
   "cell_type": "markdown",
   "metadata": {},
   "source": [
    "# Iniciando a análise\n",
    " -- Temos como variáveis autor, título, publicação, idioma, resumo e temas\n",
    " -- Eu fui analisar os dados e vi que eu esqueci de colocar a publicação no scrapping então ficou tudo com a mesma publicação daquela q eu peguei a primeira vez então vou tirar da análise ela."
   ]
  },
  {
   "cell_type": "code",
   "execution_count": 1,
   "metadata": {},
   "outputs": [],
   "source": [
    "import matplotlib as plt\n",
    "import json\n",
    "import pathlib\n",
    "import pandas as pd\n",
    "import numpy as np\n",
    "import nltk\n",
    "from nltk.tokenize import word_tokenize\n",
    "from nltk.corpus import stopwords\n",
    "from textblob import TextBlob\n"
   ]
  },
  {
   "cell_type": "code",
   "execution_count": null,
   "metadata": {},
   "outputs": [],
   "source": [
    "diretorio = pathlib.Path(\"data\")\n",
    "\n",
    "lista_dados = []\n",
    "\n",
    "for livro in diretorio.rglob(\"*.json\"):\n",
    "    with livro.open('r', encoding='utf-8') as f:\n",
    "        dados = json.load(f)\n",
    "        lista_dados.append(dados)\n",
    "            \n",
    "lista_dados\n",
    "\n"
   ]
  },
  {
   "cell_type": "code",
   "execution_count": 3,
   "metadata": {},
   "outputs": [
    {
     "data": {
      "text/html": [
       "<div>\n",
       "<style scoped>\n",
       "    .dataframe tbody tr th:only-of-type {\n",
       "        vertical-align: middle;\n",
       "    }\n",
       "\n",
       "    .dataframe tbody tr th {\n",
       "        vertical-align: top;\n",
       "    }\n",
       "\n",
       "    .dataframe thead th {\n",
       "        text-align: right;\n",
       "    }\n",
       "</style>\n",
       "<table border=\"1\" class=\"dataframe\">\n",
       "  <thead>\n",
       "    <tr style=\"text-align: right;\">\n",
       "      <th></th>\n",
       "      <th>url</th>\n",
       "      <th>autor</th>\n",
       "      <th>titulo</th>\n",
       "      <th>resumo</th>\n",
       "      <th>idioma</th>\n",
       "      <th>temas</th>\n",
       "    </tr>\n",
       "  </thead>\n",
       "  <tbody>\n",
       "    <tr>\n",
       "      <th>0</th>\n",
       "      <td>https://www.gutenberg.org/ebooks/66692</td>\n",
       "      <td>Kóbor, Tamás, 1867-1942</td>\n",
       "      <td>Munka :  Elbeszélések</td>\n",
       "      <td>\"Munka: Elbeszélések\" by Tamás Kóbor is a coll...</td>\n",
       "      <td>Hungarian</td>\n",
       "      <td>[Short stories, Hungarian, Hungarian fiction]</td>\n",
       "    </tr>\n",
       "    <tr>\n",
       "      <th>1</th>\n",
       "      <td>https://www.gutenberg.org/ebooks/16837</td>\n",
       "      <td>Stevenson, Robert Louis, 1850-1894</td>\n",
       "      <td>Ryöstölapsi: Kertomus David Balfourin seikkail...</td>\n",
       "      <td>\"Ryöstölapsi: Kertomus David Balfourin seikkai...</td>\n",
       "      <td>Finnish</td>\n",
       "      <td>[Historical fiction, Scotland -- History -- 18...</td>\n",
       "    </tr>\n",
       "    <tr>\n",
       "      <th>2</th>\n",
       "      <td>https://www.gutenberg.org/ebooks/70923</td>\n",
       "      <td>Butler, Ellis Parker, 1869-1937</td>\n",
       "      <td>An experiment in gyro-hats</td>\n",
       "      <td>\"An Experiment in Gyro-Hats\" by Ellis Parker B...</td>\n",
       "      <td>English</td>\n",
       "      <td>[Science fiction, Short stories, Humorous stor...</td>\n",
       "    </tr>\n",
       "    <tr>\n",
       "      <th>3</th>\n",
       "      <td>https://www.gutenberg.org/ebooks/43473</td>\n",
       "      <td>Aimard, Gustave, 1818-1883</td>\n",
       "      <td>The Trappers of Arkansas; or, The Loyal Heart</td>\n",
       "      <td>\"The Trappers of Arkansas; or, The Loyal Heart...</td>\n",
       "      <td>English</td>\n",
       "      <td>[Western stories, Frontier and pioneer life --...</td>\n",
       "    </tr>\n",
       "    <tr>\n",
       "      <th>4</th>\n",
       "      <td>https://www.gutenberg.org/ebooks/58538</td>\n",
       "      <td>Church, J. (John), 1780?-1825?</td>\n",
       "      <td>Is This Your Likeness? A Scriptural Definition...</td>\n",
       "      <td>\"Is This Your Likeness? A Scriptural Definitio...</td>\n",
       "      <td>English</td>\n",
       "      <td>[Christian life]</td>\n",
       "    </tr>\n",
       "    <tr>\n",
       "      <th>...</th>\n",
       "      <td>...</td>\n",
       "      <td>...</td>\n",
       "      <td>...</td>\n",
       "      <td>...</td>\n",
       "      <td>...</td>\n",
       "      <td>...</td>\n",
       "    </tr>\n",
       "    <tr>\n",
       "      <th>4931</th>\n",
       "      <td>https://www.gutenberg.org/ebooks/64576</td>\n",
       "      <td>Seneca, Lucius Annaeus, 5? BCE-65</td>\n",
       "      <td>Minor Dialogues, Together With the Dialogue on...</td>\n",
       "      <td>\"Minor Dialogues, Together With the Dialogue o...</td>\n",
       "      <td>English</td>\n",
       "      <td>[Political ethics -- Early works to 1800, Educ...</td>\n",
       "    </tr>\n",
       "    <tr>\n",
       "      <th>4932</th>\n",
       "      <td>https://www.gutenberg.org/ebooks/533</td>\n",
       "      <td>Stratton-Porter, Gene, 1863-1924</td>\n",
       "      <td>The Song of the Cardinal</td>\n",
       "      <td>\"The Song of the Cardinal\" by Gene Stratton-Po...</td>\n",
       "      <td>English</td>\n",
       "      <td>[Birds, Nature study, Cardinals (Birds)]</td>\n",
       "    </tr>\n",
       "    <tr>\n",
       "      <th>4933</th>\n",
       "      <td>https://www.gutenberg.org/ebooks/1640</td>\n",
       "      <td>MacDonald, George, 1824-1905</td>\n",
       "      <td>Lilith: A Romance</td>\n",
       "      <td>\"Lilith: A Romance\" by George MacDonald is a f...</td>\n",
       "      <td>English</td>\n",
       "      <td>[Fantasy fiction]</td>\n",
       "    </tr>\n",
       "    <tr>\n",
       "      <th>4934</th>\n",
       "      <td>https://www.gutenberg.org/ebooks/55602</td>\n",
       "      <td>Bickerdyke, John, 1858-1933</td>\n",
       "      <td>The Curiosities of Ale &amp; Beer: An Entertaining...</td>\n",
       "      <td>\"The Curiosities of Ale &amp; Beer: An Entertainin...</td>\n",
       "      <td>English</td>\n",
       "      <td>[Drinking customs, Drinking songs]</td>\n",
       "    </tr>\n",
       "    <tr>\n",
       "      <th>4935</th>\n",
       "      <td>https://www.gutenberg.org/ebooks/10624</td>\n",
       "      <td>Blackwood, Algernon, 1869-1951</td>\n",
       "      <td>Three John Silence Stories</td>\n",
       "      <td>\"Three John Silence Stories\" by Algernon Black...</td>\n",
       "      <td>English</td>\n",
       "      <td>[Horror tales, English, Supernatural -- Fictio...</td>\n",
       "    </tr>\n",
       "  </tbody>\n",
       "</table>\n",
       "<p>4936 rows × 6 columns</p>\n",
       "</div>"
      ],
      "text/plain": [
       "                                         url  \\\n",
       "0     https://www.gutenberg.org/ebooks/66692   \n",
       "1     https://www.gutenberg.org/ebooks/16837   \n",
       "2     https://www.gutenberg.org/ebooks/70923   \n",
       "3     https://www.gutenberg.org/ebooks/43473   \n",
       "4     https://www.gutenberg.org/ebooks/58538   \n",
       "...                                      ...   \n",
       "4931  https://www.gutenberg.org/ebooks/64576   \n",
       "4932    https://www.gutenberg.org/ebooks/533   \n",
       "4933   https://www.gutenberg.org/ebooks/1640   \n",
       "4934  https://www.gutenberg.org/ebooks/55602   \n",
       "4935  https://www.gutenberg.org/ebooks/10624   \n",
       "\n",
       "                                   autor  \\\n",
       "0                Kóbor, Tamás, 1867-1942   \n",
       "1     Stevenson, Robert Louis, 1850-1894   \n",
       "2        Butler, Ellis Parker, 1869-1937   \n",
       "3             Aimard, Gustave, 1818-1883   \n",
       "4         Church, J. (John), 1780?-1825?   \n",
       "...                                  ...   \n",
       "4931   Seneca, Lucius Annaeus, 5? BCE-65   \n",
       "4932    Stratton-Porter, Gene, 1863-1924   \n",
       "4933        MacDonald, George, 1824-1905   \n",
       "4934         Bickerdyke, John, 1858-1933   \n",
       "4935      Blackwood, Algernon, 1869-1951   \n",
       "\n",
       "                                                 titulo  \\\n",
       "0                                 Munka :  Elbeszélések   \n",
       "1     Ryöstölapsi: Kertomus David Balfourin seikkail...   \n",
       "2                            An experiment in gyro-hats   \n",
       "3         The Trappers of Arkansas; or, The Loyal Heart   \n",
       "4     Is This Your Likeness? A Scriptural Definition...   \n",
       "...                                                 ...   \n",
       "4931  Minor Dialogues, Together With the Dialogue on...   \n",
       "4932                           The Song of the Cardinal   \n",
       "4933                                  Lilith: A Romance   \n",
       "4934  The Curiosities of Ale & Beer: An Entertaining...   \n",
       "4935                         Three John Silence Stories   \n",
       "\n",
       "                                                 resumo     idioma  \\\n",
       "0     \"Munka: Elbeszélések\" by Tamás Kóbor is a coll...  Hungarian   \n",
       "1     \"Ryöstölapsi: Kertomus David Balfourin seikkai...    Finnish   \n",
       "2     \"An Experiment in Gyro-Hats\" by Ellis Parker B...    English   \n",
       "3     \"The Trappers of Arkansas; or, The Loyal Heart...    English   \n",
       "4     \"Is This Your Likeness? A Scriptural Definitio...    English   \n",
       "...                                                 ...        ...   \n",
       "4931  \"Minor Dialogues, Together With the Dialogue o...    English   \n",
       "4932  \"The Song of the Cardinal\" by Gene Stratton-Po...    English   \n",
       "4933  \"Lilith: A Romance\" by George MacDonald is a f...    English   \n",
       "4934  \"The Curiosities of Ale & Beer: An Entertainin...    English   \n",
       "4935  \"Three John Silence Stories\" by Algernon Black...    English   \n",
       "\n",
       "                                                  temas  \n",
       "0         [Short stories, Hungarian, Hungarian fiction]  \n",
       "1     [Historical fiction, Scotland -- History -- 18...  \n",
       "2     [Science fiction, Short stories, Humorous stor...  \n",
       "3     [Western stories, Frontier and pioneer life --...  \n",
       "4                                      [Christian life]  \n",
       "...                                                 ...  \n",
       "4931  [Political ethics -- Early works to 1800, Educ...  \n",
       "4932           [Birds, Nature study, Cardinals (Birds)]  \n",
       "4933                                  [Fantasy fiction]  \n",
       "4934                 [Drinking customs, Drinking songs]  \n",
       "4935  [Horror tales, English, Supernatural -- Fictio...  \n",
       "\n",
       "[4936 rows x 6 columns]"
      ]
     },
     "execution_count": 3,
     "metadata": {},
     "output_type": "execute_result"
    }
   ],
   "source": [
    "dados = pd.DataFrame(lista_dados)\n",
    "dados = dados.drop(\"publicacao\", axis = 1)\n",
    "dados"
   ]
  },
  {
   "cell_type": "code",
   "execution_count": 4,
   "metadata": {},
   "outputs": [
    {
     "name": "stdout",
     "output_type": "stream",
     "text": [
      "<class 'pandas.core.frame.DataFrame'>\n",
      "RangeIndex: 4936 entries, 0 to 4935\n",
      "Data columns (total 6 columns):\n",
      " #   Column  Non-Null Count  Dtype \n",
      "---  ------  --------------  ----- \n",
      " 0   url     4936 non-null   object\n",
      " 1   autor   4936 non-null   object\n",
      " 2   titulo  4936 non-null   object\n",
      " 3   resumo  4936 non-null   object\n",
      " 4   idioma  4936 non-null   object\n",
      " 5   temas   4936 non-null   object\n",
      "dtypes: object(6)\n",
      "memory usage: 231.5+ KB\n"
     ]
    }
   ],
   "source": [
    "dados.info()"
   ]
  },
  {
   "cell_type": "code",
   "execution_count": 5,
   "metadata": {},
   "outputs": [
    {
     "name": "stdout",
     "output_type": "stream",
     "text": [
      "idioma\n",
      "English       4034\n",
      "Finnish        233\n",
      "French         232\n",
      "German         134\n",
      "Italian         68\n",
      "Dutch           61\n",
      "Spanish         46\n",
      "Hungarian       40\n",
      "Portuguese      38\n",
      "Swedish         14\n",
      "Esperanto        8\n",
      "Latin            6\n",
      "Norwegian        4\n",
      "Tagalog          4\n",
      "Polish           3\n",
      "Frisian          2\n",
      "Icelandic        1\n",
      "Czech            1\n",
      "Occitan          1\n",
      "Cebuano          1\n",
      "Danish           1\n",
      "Galician         1\n",
      "Breton           1\n",
      "Welsh            1\n",
      "Arabic           1\n",
      "Name: count, dtype: int64\n"
     ]
    }
   ],
   "source": [
    "print(dados[\"idioma\"].value_counts())# como a Base tem muitos livros em inglês iremos fazer uma flag do idioma para marcar esses casos\n",
    "dados[\"Ingles\"] = np.where(dados[\"idioma\"] == \"English\",1,0)\n"
   ]
  },
  {
   "cell_type": "code",
   "execution_count": 7,
   "metadata": {},
   "outputs": [
    {
     "name": "stdout",
     "output_type": "stream",
     "text": [
      "Foram encontrados 5 livros sem autores\n",
      "Foram encontrados 0 livros sem idiomas\n",
      "Foram encontrados 31 livros sem resumos\n",
      "Foram encontrados 0 livros sem tema\n",
      "Foram encontrados 0 livros sem título\n"
     ]
    },
    {
     "data": {
      "text/html": [
       "<div>\n",
       "<style scoped>\n",
       "    .dataframe tbody tr th:only-of-type {\n",
       "        vertical-align: middle;\n",
       "    }\n",
       "\n",
       "    .dataframe tbody tr th {\n",
       "        vertical-align: top;\n",
       "    }\n",
       "\n",
       "    .dataframe thead th {\n",
       "        text-align: right;\n",
       "    }\n",
       "</style>\n",
       "<table border=\"1\" class=\"dataframe\">\n",
       "  <thead>\n",
       "    <tr style=\"text-align: right;\">\n",
       "      <th></th>\n",
       "      <th>url</th>\n",
       "      <th>autor</th>\n",
       "      <th>titulo</th>\n",
       "      <th>resumo</th>\n",
       "      <th>idioma</th>\n",
       "      <th>temas</th>\n",
       "      <th>Ingles</th>\n",
       "    </tr>\n",
       "  </thead>\n",
       "  <tbody>\n",
       "    <tr>\n",
       "      <th>0</th>\n",
       "      <td>https://www.gutenberg.org/ebooks/66692</td>\n",
       "      <td>Kóbor, Tamás, 1867-1942</td>\n",
       "      <td>Munka :  Elbeszélések</td>\n",
       "      <td>\"Munka: Elbeszélések\" by Tamás Kóbor is a coll...</td>\n",
       "      <td>Hungarian</td>\n",
       "      <td>[Short stories, Hungarian, Hungarian fiction]</td>\n",
       "      <td>0</td>\n",
       "    </tr>\n",
       "    <tr>\n",
       "      <th>1</th>\n",
       "      <td>https://www.gutenberg.org/ebooks/16837</td>\n",
       "      <td>Stevenson, Robert Louis, 1850-1894</td>\n",
       "      <td>Ryöstölapsi: Kertomus David Balfourin seikkail...</td>\n",
       "      <td>\"Ryöstölapsi: Kertomus David Balfourin seikkai...</td>\n",
       "      <td>Finnish</td>\n",
       "      <td>[Historical fiction, Scotland -- History -- 18...</td>\n",
       "      <td>0</td>\n",
       "    </tr>\n",
       "    <tr>\n",
       "      <th>2</th>\n",
       "      <td>https://www.gutenberg.org/ebooks/70923</td>\n",
       "      <td>Butler, Ellis Parker, 1869-1937</td>\n",
       "      <td>An experiment in gyro-hats</td>\n",
       "      <td>\"An Experiment in Gyro-Hats\" by Ellis Parker B...</td>\n",
       "      <td>English</td>\n",
       "      <td>[Science fiction, Short stories, Humorous stor...</td>\n",
       "      <td>1</td>\n",
       "    </tr>\n",
       "    <tr>\n",
       "      <th>3</th>\n",
       "      <td>https://www.gutenberg.org/ebooks/43473</td>\n",
       "      <td>Aimard, Gustave, 1818-1883</td>\n",
       "      <td>The Trappers of Arkansas; or, The Loyal Heart</td>\n",
       "      <td>\"The Trappers of Arkansas; or, The Loyal Heart...</td>\n",
       "      <td>English</td>\n",
       "      <td>[Western stories, Frontier and pioneer life --...</td>\n",
       "      <td>1</td>\n",
       "    </tr>\n",
       "    <tr>\n",
       "      <th>4</th>\n",
       "      <td>https://www.gutenberg.org/ebooks/58538</td>\n",
       "      <td>Church, J. (John), 1780?-1825?</td>\n",
       "      <td>Is This Your Likeness? A Scriptural Definition...</td>\n",
       "      <td>\"Is This Your Likeness? A Scriptural Definitio...</td>\n",
       "      <td>English</td>\n",
       "      <td>[Christian life]</td>\n",
       "      <td>1</td>\n",
       "    </tr>\n",
       "  </tbody>\n",
       "</table>\n",
       "</div>"
      ],
      "text/plain": [
       "                                      url                               autor  \\\n",
       "0  https://www.gutenberg.org/ebooks/66692             Kóbor, Tamás, 1867-1942   \n",
       "1  https://www.gutenberg.org/ebooks/16837  Stevenson, Robert Louis, 1850-1894   \n",
       "2  https://www.gutenberg.org/ebooks/70923     Butler, Ellis Parker, 1869-1937   \n",
       "3  https://www.gutenberg.org/ebooks/43473          Aimard, Gustave, 1818-1883   \n",
       "4  https://www.gutenberg.org/ebooks/58538      Church, J. (John), 1780?-1825?   \n",
       "\n",
       "                                              titulo  \\\n",
       "0                              Munka :  Elbeszélések   \n",
       "1  Ryöstölapsi: Kertomus David Balfourin seikkail...   \n",
       "2                         An experiment in gyro-hats   \n",
       "3      The Trappers of Arkansas; or, The Loyal Heart   \n",
       "4  Is This Your Likeness? A Scriptural Definition...   \n",
       "\n",
       "                                              resumo     idioma  \\\n",
       "0  \"Munka: Elbeszélések\" by Tamás Kóbor is a coll...  Hungarian   \n",
       "1  \"Ryöstölapsi: Kertomus David Balfourin seikkai...    Finnish   \n",
       "2  \"An Experiment in Gyro-Hats\" by Ellis Parker B...    English   \n",
       "3  \"The Trappers of Arkansas; or, The Loyal Heart...    English   \n",
       "4  \"Is This Your Likeness? A Scriptural Definitio...    English   \n",
       "\n",
       "                                               temas  Ingles  \n",
       "0      [Short stories, Hungarian, Hungarian fiction]       0  \n",
       "1  [Historical fiction, Scotland -- History -- 18...       0  \n",
       "2  [Science fiction, Short stories, Humorous stor...       1  \n",
       "3  [Western stories, Frontier and pioneer life --...       1  \n",
       "4                                   [Christian life]       1  "
      ]
     },
     "execution_count": 7,
     "metadata": {},
     "output_type": "execute_result"
    }
   ],
   "source": [
    "print(f\"Foram encontrados {sum(dados[\"autor\"] == \"Não foi possível obter\")} livros sem autores\")\n",
    "print(f\"Foram encontrados {sum(dados[\"idioma\"] == \"Não foi possível obter\")} livros sem idiomas\")\n",
    "print(f\"Foram encontrados {sum(dados[\"resumo\"] == \"Não foi possível obter\")} livros sem resumos\")\n",
    "print(f\"Foram encontrados {sum(dados[\"temas\"] == \"Não foi possível obter\")} livros sem tema\")\n",
    "print(f\"Foram encontrados {sum(dados[\"titulo\"] == \"Não foi possível obter\")} livros sem título\")\n",
    "\n",
    "#Como eu que coletei os dados e eu faço o que eu quero com eles eu vou deletar todo mundo q eu n achei pelo menos \n",
    "#uma informação, mas eu poderia criar flag pra esses casos e so filtras eles, e também as outras colunas tão preenchidas\n",
    "# então n vai impactar nelas também, mas vou deletar aki.\n",
    "\n",
    "indices = dados[(dados[\"autor\"] == \"Não foi possível obter\") | (dados[\"resumo\"] == \"Não foi possível obter\")].index\n",
    "\n",
    "dados.drop(indices)\n",
    "dados.reset_index(drop=True, inplace=True)\n",
    "dados.head(5)"
   ]
  },
  {
   "cell_type": "code",
   "execution_count": 8,
   "metadata": {},
   "outputs": [
    {
     "data": {
      "text/plain": [
       "0       \"Munka: Elbeszélések\" by Tamás Kóbor is a coll...\n",
       "1       \"Ryöstölapsi: Kertomus David Balfourin seikkai...\n",
       "11      \"Páginas sevillanas\" by Manuel Chaves Rey is a...\n",
       "13      \"Deberes de buena sociedad\" by Camilo Fabra is...\n",
       "18      \"Puphejmo: Dramo en tri aktoj\" by Henrik Ibsen...\n",
       "                              ...                        \n",
       "4907    \"Rakkaita muistoja\" by Joel Lehtonen is a coll...\n",
       "4909    \"Il romanzo della morte\" by Bruno Sperani is a...\n",
       "4919    \"Naapurit: Alkuperäinen kertomus\" by John Sten...\n",
       "4921    \"O Primo Bazilio: Episodio Domestico\" by Eça d...\n",
       "4930    \"Herra Byronin ammatti\" by Bernard Shaw is a n...\n",
       "Name: resumo, Length: 902, dtype: object"
      ]
     },
     "execution_count": 8,
     "metadata": {},
     "output_type": "execute_result"
    }
   ],
   "source": [
    "# como os resumos são gerados por uma IA diretamente eles também estão todos em inglês então não vou precisar me preocupar\n",
    "#com diferentes linguas durante a análise\n",
    "dados[dados[\"Ingles\"] == 0][\"resumo\"]"
   ]
  },
  {
   "cell_type": "markdown",
   "metadata": {},
   "source": [
    "# Início das análises\n",
    "    -- Vamos realizar uma análise de sentimeto nos resumos dos textos (lembrando que eles foram gerados por uma IA, o que talvez facilite nossa analise? E depois ver se esse sentimento condiz com os temas que estão nos livros.)\n",
    "    -- Vamos dar também um contexto da biblioteca que vamos usar. Vamos usar a biblioteca TextBlob. A análise de spentimento resulta em dois valores um sobre o sentimento (-1 a 1, sendo -1 negativo e 1 positivo). O segundo valore é sobre a subjetividade sendo 0 mais objetivo e 1 subjetivo"
   ]
  },
  {
   "cell_type": "code",
   "execution_count": 9,
   "metadata": {},
   "outputs": [],
   "source": [
    "# Vamos fazer uma função que chama para realizar a análise de sentimento dos textos\n",
    "\n",
    "def analise_sentimento(resumo):\n",
    "    sentimento = TextBlob(resumo)\n",
    "    return(sentimento.sentiment) # retorna uma lista com 2 valores. O 1 é sentimento e a entrada 2 é subjetividade"
   ]
  },
  {
   "cell_type": "code",
   "execution_count": 10,
   "metadata": {},
   "outputs": [],
   "source": [
    "analise_resumos = dados[\"resumo\"].apply(analise_sentimento) "
   ]
  },
  {
   "cell_type": "code",
   "execution_count": 11,
   "metadata": {},
   "outputs": [],
   "source": [
    "analise_resumos = dados['resumo'].apply(analise_sentimento).tolist()\n",
    "\n",
    "for i in range(len(analise_resumos)):\n",
    "    dados.loc[i, \"sentimento\"] = analise_resumos[i][0]\n",
    "    dados.loc[i, \"subjetividade\"] = analise_resumos[i][1]"
   ]
  },
  {
   "cell_type": "code",
   "execution_count": 12,
   "metadata": {},
   "outputs": [
    {
     "data": {
      "text/html": [
       "<div>\n",
       "<style scoped>\n",
       "    .dataframe tbody tr th:only-of-type {\n",
       "        vertical-align: middle;\n",
       "    }\n",
       "\n",
       "    .dataframe tbody tr th {\n",
       "        vertical-align: top;\n",
       "    }\n",
       "\n",
       "    .dataframe thead th {\n",
       "        text-align: right;\n",
       "    }\n",
       "</style>\n",
       "<table border=\"1\" class=\"dataframe\">\n",
       "  <thead>\n",
       "    <tr style=\"text-align: right;\">\n",
       "      <th></th>\n",
       "      <th>url</th>\n",
       "      <th>autor</th>\n",
       "      <th>titulo</th>\n",
       "      <th>resumo</th>\n",
       "      <th>idioma</th>\n",
       "      <th>temas</th>\n",
       "      <th>Ingles</th>\n",
       "      <th>sentimento</th>\n",
       "      <th>subjetividade</th>\n",
       "    </tr>\n",
       "  </thead>\n",
       "  <tbody>\n",
       "    <tr>\n",
       "      <th>0</th>\n",
       "      <td>https://www.gutenberg.org/ebooks/66692</td>\n",
       "      <td>Kóbor, Tamás, 1867-1942</td>\n",
       "      <td>Munka :  Elbeszélések</td>\n",
       "      <td>\"Munka: Elbeszélések\" by Tamás Kóbor is a coll...</td>\n",
       "      <td>Hungarian</td>\n",
       "      <td>Short stories, Hungarian</td>\n",
       "      <td>0</td>\n",
       "      <td>0.018056</td>\n",
       "      <td>0.488889</td>\n",
       "    </tr>\n",
       "    <tr>\n",
       "      <th>0</th>\n",
       "      <td>https://www.gutenberg.org/ebooks/66692</td>\n",
       "      <td>Kóbor, Tamás, 1867-1942</td>\n",
       "      <td>Munka :  Elbeszélések</td>\n",
       "      <td>\"Munka: Elbeszélések\" by Tamás Kóbor is a coll...</td>\n",
       "      <td>Hungarian</td>\n",
       "      <td>Hungarian fiction</td>\n",
       "      <td>0</td>\n",
       "      <td>0.018056</td>\n",
       "      <td>0.488889</td>\n",
       "    </tr>\n",
       "    <tr>\n",
       "      <th>1</th>\n",
       "      <td>https://www.gutenberg.org/ebooks/16837</td>\n",
       "      <td>Stevenson, Robert Louis, 1850-1894</td>\n",
       "      <td>Ryöstölapsi: Kertomus David Balfourin seikkail...</td>\n",
       "      <td>\"Ryöstölapsi: Kertomus David Balfourin seikkai...</td>\n",
       "      <td>Finnish</td>\n",
       "      <td>Historical fiction</td>\n",
       "      <td>0</td>\n",
       "      <td>-0.085000</td>\n",
       "      <td>0.521111</td>\n",
       "    </tr>\n",
       "    <tr>\n",
       "      <th>1</th>\n",
       "      <td>https://www.gutenberg.org/ebooks/16837</td>\n",
       "      <td>Stevenson, Robert Louis, 1850-1894</td>\n",
       "      <td>Ryöstölapsi: Kertomus David Balfourin seikkail...</td>\n",
       "      <td>\"Ryöstölapsi: Kertomus David Balfourin seikkai...</td>\n",
       "      <td>Finnish</td>\n",
       "      <td>Scotland -- History -- 18th century -- Fiction</td>\n",
       "      <td>0</td>\n",
       "      <td>-0.085000</td>\n",
       "      <td>0.521111</td>\n",
       "    </tr>\n",
       "    <tr>\n",
       "      <th>1</th>\n",
       "      <td>https://www.gutenberg.org/ebooks/16837</td>\n",
       "      <td>Stevenson, Robert Louis, 1850-1894</td>\n",
       "      <td>Ryöstölapsi: Kertomus David Balfourin seikkail...</td>\n",
       "      <td>\"Ryöstölapsi: Kertomus David Balfourin seikkai...</td>\n",
       "      <td>Finnish</td>\n",
       "      <td>Kidnapping -- Fiction</td>\n",
       "      <td>0</td>\n",
       "      <td>-0.085000</td>\n",
       "      <td>0.521111</td>\n",
       "    </tr>\n",
       "    <tr>\n",
       "      <th>...</th>\n",
       "      <td>...</td>\n",
       "      <td>...</td>\n",
       "      <td>...</td>\n",
       "      <td>...</td>\n",
       "      <td>...</td>\n",
       "      <td>...</td>\n",
       "      <td>...</td>\n",
       "      <td>...</td>\n",
       "      <td>...</td>\n",
       "    </tr>\n",
       "    <tr>\n",
       "      <th>4935</th>\n",
       "      <td>https://www.gutenberg.org/ebooks/10624</td>\n",
       "      <td>Blackwood, Algernon, 1869-1951</td>\n",
       "      <td>Three John Silence Stories</td>\n",
       "      <td>\"Three John Silence Stories\" by Algernon Black...</td>\n",
       "      <td>English</td>\n",
       "      <td>Detective and mystery stories, English</td>\n",
       "      <td>1</td>\n",
       "      <td>0.177941</td>\n",
       "      <td>0.529412</td>\n",
       "    </tr>\n",
       "    <tr>\n",
       "      <th>4935</th>\n",
       "      <td>https://www.gutenberg.org/ebooks/10624</td>\n",
       "      <td>Blackwood, Algernon, 1869-1951</td>\n",
       "      <td>Three John Silence Stories</td>\n",
       "      <td>\"Three John Silence Stories\" by Algernon Black...</td>\n",
       "      <td>English</td>\n",
       "      <td>Ghost stories, English</td>\n",
       "      <td>1</td>\n",
       "      <td>0.177941</td>\n",
       "      <td>0.529412</td>\n",
       "    </tr>\n",
       "    <tr>\n",
       "      <th>4935</th>\n",
       "      <td>https://www.gutenberg.org/ebooks/10624</td>\n",
       "      <td>Blackwood, Algernon, 1869-1951</td>\n",
       "      <td>Three John Silence Stories</td>\n",
       "      <td>\"Three John Silence Stories\" by Algernon Black...</td>\n",
       "      <td>English</td>\n",
       "      <td>Silence, John (Fictitious character) -- Fiction</td>\n",
       "      <td>1</td>\n",
       "      <td>0.177941</td>\n",
       "      <td>0.529412</td>\n",
       "    </tr>\n",
       "    <tr>\n",
       "      <th>4935</th>\n",
       "      <td>https://www.gutenberg.org/ebooks/10624</td>\n",
       "      <td>Blackwood, Algernon, 1869-1951</td>\n",
       "      <td>Three John Silence Stories</td>\n",
       "      <td>\"Three John Silence Stories\" by Algernon Black...</td>\n",
       "      <td>English</td>\n",
       "      <td>Paranormal fiction, English</td>\n",
       "      <td>1</td>\n",
       "      <td>0.177941</td>\n",
       "      <td>0.529412</td>\n",
       "    </tr>\n",
       "    <tr>\n",
       "      <th>4935</th>\n",
       "      <td>https://www.gutenberg.org/ebooks/10624</td>\n",
       "      <td>Blackwood, Algernon, 1869-1951</td>\n",
       "      <td>Three John Silence Stories</td>\n",
       "      <td>\"Three John Silence Stories\" by Algernon Black...</td>\n",
       "      <td>English</td>\n",
       "      <td>Psychics -- Fiction</td>\n",
       "      <td>1</td>\n",
       "      <td>0.177941</td>\n",
       "      <td>0.529412</td>\n",
       "    </tr>\n",
       "  </tbody>\n",
       "</table>\n",
       "<p>11517 rows × 9 columns</p>\n",
       "</div>"
      ],
      "text/plain": [
       "                                         url  \\\n",
       "0     https://www.gutenberg.org/ebooks/66692   \n",
       "0     https://www.gutenberg.org/ebooks/66692   \n",
       "1     https://www.gutenberg.org/ebooks/16837   \n",
       "1     https://www.gutenberg.org/ebooks/16837   \n",
       "1     https://www.gutenberg.org/ebooks/16837   \n",
       "...                                      ...   \n",
       "4935  https://www.gutenberg.org/ebooks/10624   \n",
       "4935  https://www.gutenberg.org/ebooks/10624   \n",
       "4935  https://www.gutenberg.org/ebooks/10624   \n",
       "4935  https://www.gutenberg.org/ebooks/10624   \n",
       "4935  https://www.gutenberg.org/ebooks/10624   \n",
       "\n",
       "                                   autor  \\\n",
       "0                Kóbor, Tamás, 1867-1942   \n",
       "0                Kóbor, Tamás, 1867-1942   \n",
       "1     Stevenson, Robert Louis, 1850-1894   \n",
       "1     Stevenson, Robert Louis, 1850-1894   \n",
       "1     Stevenson, Robert Louis, 1850-1894   \n",
       "...                                  ...   \n",
       "4935      Blackwood, Algernon, 1869-1951   \n",
       "4935      Blackwood, Algernon, 1869-1951   \n",
       "4935      Blackwood, Algernon, 1869-1951   \n",
       "4935      Blackwood, Algernon, 1869-1951   \n",
       "4935      Blackwood, Algernon, 1869-1951   \n",
       "\n",
       "                                                 titulo  \\\n",
       "0                                 Munka :  Elbeszélések   \n",
       "0                                 Munka :  Elbeszélések   \n",
       "1     Ryöstölapsi: Kertomus David Balfourin seikkail...   \n",
       "1     Ryöstölapsi: Kertomus David Balfourin seikkail...   \n",
       "1     Ryöstölapsi: Kertomus David Balfourin seikkail...   \n",
       "...                                                 ...   \n",
       "4935                         Three John Silence Stories   \n",
       "4935                         Three John Silence Stories   \n",
       "4935                         Three John Silence Stories   \n",
       "4935                         Three John Silence Stories   \n",
       "4935                         Three John Silence Stories   \n",
       "\n",
       "                                                 resumo     idioma  \\\n",
       "0     \"Munka: Elbeszélések\" by Tamás Kóbor is a coll...  Hungarian   \n",
       "0     \"Munka: Elbeszélések\" by Tamás Kóbor is a coll...  Hungarian   \n",
       "1     \"Ryöstölapsi: Kertomus David Balfourin seikkai...    Finnish   \n",
       "1     \"Ryöstölapsi: Kertomus David Balfourin seikkai...    Finnish   \n",
       "1     \"Ryöstölapsi: Kertomus David Balfourin seikkai...    Finnish   \n",
       "...                                                 ...        ...   \n",
       "4935  \"Three John Silence Stories\" by Algernon Black...    English   \n",
       "4935  \"Three John Silence Stories\" by Algernon Black...    English   \n",
       "4935  \"Three John Silence Stories\" by Algernon Black...    English   \n",
       "4935  \"Three John Silence Stories\" by Algernon Black...    English   \n",
       "4935  \"Three John Silence Stories\" by Algernon Black...    English   \n",
       "\n",
       "                                                temas  Ingles  sentimento  \\\n",
       "0                            Short stories, Hungarian       0    0.018056   \n",
       "0                                   Hungarian fiction       0    0.018056   \n",
       "1                                  Historical fiction       0   -0.085000   \n",
       "1      Scotland -- History -- 18th century -- Fiction       0   -0.085000   \n",
       "1                               Kidnapping -- Fiction       0   -0.085000   \n",
       "...                                               ...     ...         ...   \n",
       "4935           Detective and mystery stories, English       1    0.177941   \n",
       "4935                           Ghost stories, English       1    0.177941   \n",
       "4935  Silence, John (Fictitious character) -- Fiction       1    0.177941   \n",
       "4935                      Paranormal fiction, English       1    0.177941   \n",
       "4935                              Psychics -- Fiction       1    0.177941   \n",
       "\n",
       "      subjetividade  \n",
       "0          0.488889  \n",
       "0          0.488889  \n",
       "1          0.521111  \n",
       "1          0.521111  \n",
       "1          0.521111  \n",
       "...             ...  \n",
       "4935       0.529412  \n",
       "4935       0.529412  \n",
       "4935       0.529412  \n",
       "4935       0.529412  \n",
       "4935       0.529412  \n",
       "\n",
       "[11517 rows x 9 columns]"
      ]
     },
     "execution_count": 12,
     "metadata": {},
     "output_type": "execute_result"
    }
   ],
   "source": [
    "# Confesso que nessa parte aqui usei um pouco de GPT, pq eu queria tirar os sentimentos médio por tema e fazer umas\n",
    "# análises nesse estilo e eu n tinha idéia de como fazer\n",
    "temas = dados.explode('temas')\n",
    "temas\n",
    "\n",
    "# Então basicamente o que foi feito aqui foi duplicar as linhas expandindo todos os temas possiveis delas ai vamos ter\n",
    "#uma linha com um tema por história."
   ]
  },
  {
   "cell_type": "markdown",
   "metadata": {},
   "source": [
    "##### Se olharmos os temas dos textoAqui vemos um problema. Tem muitos temas diferentes então vamos mudar a abordagem e tentar diminuir essa quantidade de temas antes de fazer essa análise, tratando a coluna temas nos dados originais."
   ]
  },
  {
   "cell_type": "code",
   "execution_count": 13,
   "metadata": {},
   "outputs": [],
   "source": [
    "# vamos começar primeiramente criando uma lista com os generos de livros que consigo pensar e o GPT também \n",
    "# Pedi pro GPT criar os mais comuns e adicionei alguns q eu achei q apareciam em uns temas q eu vi de olho mesmo.\n",
    "generos = [\n",
    "    \"comedy\", \"drama\", \"horror\", \"science fiction\", \"fantasy\", \"mystery\", \"romance\", \n",
    "    \"animation\", \"documentary\", \"biography\", \"sport\", \"war\", \"family\", \"crime\", \"historical\", \"supernatural\", \n",
    "    \"experimental\", \"cult\", \"religious\", \"noir\", \"short stories\", \"periodicals\", \"poetry\", \"fiction\",\n",
    "    \"personal narratives\", \"witchcraft\", \"description\", \"western\", \"nature\", \"political\", \"tales\",\n",
    "    \"humorous stories\", \"history\", \"war\", \"ghost\", \"literature\", \"adventure\", \"american\", \"socialism\"]\n",
    "\n"
   ]
  },
  {
   "cell_type": "code",
   "execution_count": 14,
   "metadata": {},
   "outputs": [
    {
     "name": "stdout",
     "output_type": "stream",
     "text": [
      "[['short stories', 'fiction'], ['historical', 'fiction', 'history'], ['science fiction', 'fiction', 'short stories', 'humorous stories'], ['western', 'fiction'], ['sem tema'], ['history'], ['sem tema'], ['poetry', 'american'], ['war', 'history'], ['sem tema'], ['history'], ['history'], ['sem tema'], ['sem tema'], ['sem tema'], ['fiction'], ['poetry'], ['war', 'history'], ['drama'], ['sem tema'], ['sem tema'], ['fiction'], ['mystery', 'fiction'], ['description'], ['description'], ['sem tema'], ['history', 'poetry'], ['short stories'], ['witchcraft'], ['war', 'personal narratives'], ['periodicals'], ['description'], ['fiction'], ['war', 'history'], ['fiction'], ['sem tema'], ['history'], ['sem tema'], ['poetry'], ['sem tema'], ['drama'], ['tales', 'literature'], ['history', 'biography'], ['poetry'], ['fiction'], ['short stories', 'fiction'], ['fiction', 'adventure', 'history'], ['fiction'], ['drama'], ['fiction'], ['western', 'adventure', 'fiction'], ['sem tema'], ['literature', 'history'], ['fiction'], ['fiction', 'adventure'], ['sem tema'], ['drama', 'fantasy'], ['history'], ['science fiction', 'fiction'], ['science fiction', 'fiction', 'adventure'], ['literature'], ['history'], ['periodicals'], ['ghost'], ['short stories', 'fiction'], ['periodicals'], ['history'], ['science fiction', 'fiction', 'short stories'], ['tales'], ['fiction'], ['short stories'], ['drama', 'crime'], ['description'], ['history'], ['fiction'], ['literature'], ['sem tema'], ['sem tema'], ['sem tema'], ['sem tema'], ['ghost', 'fiction'], ['fiction'], ['fiction'], ['poetry'], ['description'], ['sem tema'], ['sem tema'], ['fiction'], ['periodicals', 'literature'], ['short stories'], ['science fiction', 'fiction', 'short stories'], ['western', 'fiction'], ['sem tema'], ['biography'], ['short stories', 'fiction'], ['religious', 'fiction'], ['biography'], ['biography', 'war', 'history', 'personal narratives'], ['fiction'], ['sem tema'], ['sem tema'], ['biography'], ['fiction'], ['history'], ['american', 'literature'], ['poetry'], ['adventure', 'fiction'], ['fiction'], ['war', 'personal narratives', 'history', 'biography'], ['fiction'], ['fiction'], ['fiction'], ['fiction', 'war', 'history'], ['american'], ['western', 'fiction'], ['american'], ['description'], ['biography', 'history', 'literature'], ['fiction', 'socialism'], ['sem tema'], ['sem tema'], ['description'], ['description', 'western'], ['war'], ['literature', 'history'], ['history'], ['sem tema'], ['fiction', 'fantasy', 'literature'], ['fiction'], ['description'], ['fiction', 'history'], ['sem tema'], ['biography'], ['periodicals'], ['fiction', 'history'], ['description'], ['fiction'], ['sem tema'], ['cult'], ['fantasy', 'fiction', 'adventure', 'american'], ['poetry', 'american'], ['romance'], ['comedy', 'drama'], ['science fiction', 'fiction', 'short stories', 'war'], ['war', 'fiction'], ['historical', 'fiction', 'horror', 'tales', 'mystery'], ['science fiction', 'fiction', 'short stories'], ['fiction'], ['history'], ['description'], ['periodicals'], ['fiction', 'american'], ['fiction'], ['fiction'], ['sem tema'], ['fiction'], ['science fiction', 'fiction', 'short stories'], ['sem tema'], ['sem tema'], ['description'], ['literature', 'poetry', 'history'], ['fiction', 'short stories', 'american', 'literature'], ['periodicals'], ['fiction', 'history'], ['historical', 'fiction', 'history'], ['sem tema'], ['description'], ['sem tema'], ['drama'], ['fiction', 'history'], ['sem tema'], ['sem tema'], ['fiction', 'history'], ['mystery', 'fiction'], ['fiction', 'short stories'], ['sem tema'], ['sem tema'], ['literature', 'poetry'], ['fiction'], ['biography'], ['sem tema'], ['biography'], ['sem tema'], ['sem tema'], ['science fiction', 'fiction', 'short stories'], ['history'], ['science fiction', 'fiction', 'short stories'], ['history'], ['history'], ['fiction', 'mystery', 'ghost'], ['fiction'], ['fiction', 'war'], ['sem tema'], ['periodicals', 'literature', 'american'], ['fiction'], ['fiction'], ['fiction'], ['sem tema'], ['fiction'], ['fiction'], ['fiction'], ['war'], ['fiction'], ['sem tema'], ['fiction', 'history'], ['history'], ['fiction'], ['periodicals'], ['biography'], ['western'], ['description'], ['poetry', 'american'], ['fiction'], ['drama'], ['cult'], ['fiction'], ['romance', 'fiction'], ['sem tema'], ['literature'], ['literature'], ['sem tema'], ['history', 'description'], ['sem tema'], ['periodicals', 'american'], ['fiction', 'history'], ['short stories', 'humorous stories'], ['fiction'], ['fiction'], ['drama'], ['science fiction', 'fiction', 'short stories'], ['periodicals'], ['fantasy', 'fiction', 'war'], ['fiction', 'history'], ['history', 'literature'], ['sem tema'], ['fantasy', 'fiction'], ['fiction'], ['drama'], ['fiction'], ['humorous stories', 'fiction'], ['fiction'], ['sem tema'], ['description'], ['tales'], ['periodicals'], ['drama'], ['fiction', 'literature'], ['description', 'biography'], ['fiction'], ['sem tema'], ['biography', 'american', 'war'], ['description'], ['sem tema'], ['sem tema'], ['periodicals', 'literature', 'mystery', 'american'], ['sem tema'], ['sem tema'], ['fiction', 'short stories'], ['sem tema'], ['sem tema'], ['tales'], ['periodicals'], ['history'], ['fiction', 'history'], ['fiction'], ['fiction', 'adventure'], ['fiction'], ['sem tema'], ['sem tema'], ['science fiction', 'fiction', 'short stories'], ['fiction', 'short stories'], ['historical', 'fiction', 'history'], ['fiction'], ['fiction', 'short stories', 'horror', 'tales'], ['sem tema'], ['sem tema'], ['sem tema'], ['description'], ['description'], ['sem tema'], ['periodicals'], ['mystery', 'fiction'], ['short stories'], ['biography', 'history'], ['sem tema'], ['war', 'fiction', 'history'], ['sem tema'], ['fiction', 'sport'], ['fiction'], ['fiction', 'adventure'], ['science fiction', 'fiction', 'short stories'], ['fiction'], ['literature'], ['science fiction', 'fiction', 'adventure'], ['fiction'], ['biography', 'war', 'history'], ['periodicals'], ['periodicals'], ['fiction'], ['biography'], ['periodicals'], ['fiction', 'mystery'], ['fiction', 'adventure'], ['sem tema'], ['sem tema'], ['fiction'], ['war', 'crime'], ['history'], ['sem tema'], ['sem tema'], ['historical', 'fiction'], ['history'], ['fiction'], ['comedy', 'drama'], ['fiction'], ['sem tema'], ['war', 'fiction'], ['sem tema'], ['science fiction', 'fiction'], ['fiction', 'history'], ['crime'], ['history', 'war', 'american'], ['fiction'], ['science fiction', 'fiction', 'short stories'], ['sem tema'], ['sport'], ['sem tema'], ['sem tema'], ['sem tema'], ['sem tema'], ['short stories', 'fiction'], ['sem tema'], ['literature', 'history'], ['fiction'], ['fiction'], ['fiction'], ['fiction', 'adventure'], ['description'], ['sport'], ['fiction'], ['mystery', 'periodicals'], ['sem tema'], ['fiction'], ['fiction'], ['poetry'], ['description'], ['fiction', 'war'], ['science fiction', 'periodicals', 'fiction', 'american'], ['fiction'], ['cult', 'periodicals'], ['sem tema'], ['sem tema'], ['sem tema'], ['short stories', 'fiction'], ['fiction'], ['fiction'], ['literature'], ['science fiction', 'fiction', 'short stories'], ['biography'], ['science fiction', 'fiction', 'short stories'], ['sem tema'], ['sem tema'], ['periodicals', 'literature'], ['fiction'], ['sem tema'], ['history'], ['fiction'], ['sem tema'], ['fiction'], ['description', 'literature'], ['drama'], ['fiction'], ['fiction'], ['description', 'history'], ['historical', 'fiction', 'history'], ['drama'], ['sem tema'], ['biography', 'history'], ['socialism'], ['fiction'], ['fiction'], ['periodicals'], ['fiction'], ['fiction', 'adventure', 'nature'], ['fiction'], ['adventure', 'fiction'], ['sem tema'], ['history', 'literature', 'american', 'biography'], ['fiction', 'history'], ['tales'], ['science fiction', 'fiction'], ['fiction'], ['sem tema'], ['fiction'], ['sem tema'], ['tales'], ['sem tema'], ['sem tema'], ['description'], ['fiction', 'political'], ['fiction'], ['biography'], ['fiction', 'american'], ['adventure', 'fiction'], ['short stories', 'american', 'fiction'], ['sem tema'], ['sem tema'], ['tales'], ['sem tema'], ['drama'], ['fiction'], ['fiction'], ['description'], ['fiction'], ['sem tema'], ['fiction', 'history'], ['biography', 'history'], ['periodicals'], ['history'], ['fiction', 'mystery', 'war'], ['history'], ['sem tema'], ['fiction', 'adventure', 'history'], ['literature'], ['periodicals'], ['sem tema'], ['fiction'], ['sem tema'], ['science fiction', 'fiction', 'short stories'], ['sem tema'], ['description'], ['political'], ['history'], ['sem tema'], ['poetry'], ['fiction', 'literature'], ['fiction'], ['biography', 'history'], ['fiction', 'mystery'], ['sem tema'], ['sem tema'], ['mystery', 'american', 'fiction', 'poetry'], ['poetry'], ['fiction', 'short stories'], ['fiction'], ['fiction'], ['tales'], ['sem tema'], ['sem tema'], ['fiction'], ['fiction'], ['sem tema'], ['fiction'], ['fiction', 'mystery'], ['fiction'], ['sem tema'], ['sem tema'], ['sem tema'], ['periodicals'], ['sem tema'], ['science fiction', 'fiction', 'sport'], ['sem tema'], ['fiction'], ['sem tema'], ['sem tema'], ['fiction'], ['history'], ['short stories'], ['periodicals', 'history', 'literature'], ['fantasy', 'literature', 'fiction'], ['fiction'], ['fiction', 'political', 'american'], ['fiction'], ['fiction'], ['short stories', 'fiction'], ['historical', 'fiction', 'war'], ['fiction'], ['science fiction', 'fiction', 'adventure'], ['drama'], ['sem tema'], ['periodicals'], ['war'], ['sem tema'], ['poetry'], ['poetry'], ['sem tema'], ['fiction'], ['poetry'], ['sem tema'], ['sem tema'], ['cult', 'history'], ['poetry'], ['history', 'literature'], ['adventure'], ['fiction', 'adventure', 'family'], ['history'], ['sem tema'], ['drama'], ['periodicals', 'literature'], ['science fiction', 'fiction', 'short stories'], ['sem tema'], ['fiction'], ['short stories'], ['history'], ['war', 'history'], ['history', 'literature'], ['sem tema'], ['description'], ['science fiction', 'fiction'], ['fiction'], ['adventure', 'fiction'], ['fiction'], ['fiction'], ['drama'], ['history'], ['drama'], ['sem tema'], ['poetry'], ['sem tema'], ['sem tema'], ['fiction'], ['periodicals'], ['fiction'], ['western'], ['fiction'], ['drama'], ['sem tema'], ['history'], ['war', 'fiction', 'history'], ['fiction'], ['biography', 'american'], ['history'], ['sem tema'], ['poetry'], ['sem tema'], ['sem tema'], ['science fiction', 'fiction', 'adventure', 'war'], ['description'], ['war'], ['literature'], ['fiction', 'history'], ['mystery', 'fiction'], ['sem tema'], ['historical', 'fiction'], ['periodicals', 'american'], ['poetry'], ['fiction'], ['american'], ['sem tema'], ['fiction', 'american'], ['science fiction', 'fiction'], ['fiction'], ['poetry', 'drama'], ['drama'], ['mystery', 'fiction', 'american'], ['sem tema'], ['sem tema'], ['periodicals'], ['sem tema'], ['poetry'], ['history', 'literature'], ['fiction'], ['fiction'], ['history'], ['drama'], ['sem tema'], ['sem tema'], ['periodicals', 'literature'], ['fiction'], ['description'], ['sem tema'], ['periodicals', 'cult'], ['sem tema'], ['sem tema'], ['sem tema'], ['fiction', 'history'], ['literature'], ['fiction', 'short stories', 'american'], ['literature'], ['fiction'], ['fiction'], ['science fiction', 'fiction', 'war'], ['sem tema'], ['science fiction', 'fiction'], ['description'], ['periodicals', 'literature'], ['biography'], ['sem tema'], ['sem tema'], ['humorous stories', 'fiction', 'tales'], ['fiction'], ['fiction', 'short stories'], ['fiction'], ['sem tema'], ['fiction'], ['sem tema'], ['biography'], ['science fiction', 'fiction'], ['tales'], ['sem tema'], ['poetry'], ['tales'], ['history'], ['sem tema'], ['fiction', 'literature', 'romance'], ['fiction', 'history'], ['sem tema'], ['sem tema'], ['fiction', 'american'], ['fiction'], ['poetry'], ['fiction'], ['history', 'war', 'biography'], ['science fiction', 'fiction', 'short stories'], ['fantasy', 'fiction'], ['history'], ['fiction'], ['war', 'history'], ['sem tema'], ['literature'], ['short stories', 'fiction'], ['poetry'], ['poetry'], ['fiction'], ['sem tema'], ['poetry', 'american'], ['fiction'], ['sem tema'], ['war', 'fiction', 'history'], ['description'], ['sem tema'], ['fiction'], ['description'], ['history'], ['sem tema'], ['western', 'fiction'], ['sem tema'], ['sem tema'], ['description'], ['sem tema'], ['war', 'history'], ['poetry'], ['science fiction', 'fiction'], ['poetry'], ['sem tema'], ['american'], ['history'], ['poetry'], ['sem tema'], ['fiction'], ['fiction', 'adventure'], ['periodicals'], ['humorous stories', 'war', 'fiction'], ['sem tema'], ['war'], ['fiction'], ['science fiction', 'fiction', 'war', 'adventure'], ['mystery', 'fiction', 'crime'], ['fiction'], ['fiction', 'history'], ['history'], ['literature'], ['fiction', 'war'], ['war', 'fiction'], ['fiction'], ['fiction'], ['fiction', 'history'], ['description'], ['american'], ['fiction'], ['sem tema'], ['fiction'], ['sem tema'], ['fiction'], ['fiction', 'description'], ['fiction', 'american'], ['sem tema'], ['witchcraft'], ['drama'], ['war', 'history', 'personal narratives', 'biography'], ['poetry', 'war'], ['sem tema'], ['biography'], ['sem tema'], ['fiction'], ['periodicals', 'cult'], ['adventure', 'fiction', 'mystery'], ['fiction', 'ghost'], ['history'], ['fiction'], ['periodicals'], ['fantasy', 'fiction'], ['history'], ['fiction'], ['fiction'], ['history'], ['sem tema'], ['history'], ['description'], ['poetry'], ['sem tema'], ['fiction', 'political'], ['romance'], ['sem tema'], ['sem tema'], ['cult', 'history'], ['short stories', 'american', 'fiction'], ['history'], ['fiction'], ['sem tema'], ['fiction'], ['science fiction', 'fiction'], ['fantasy', 'fiction', 'horror', 'tales'], ['description'], ['sem tema'], ['sem tema'], ['sem tema'], ['fiction'], ['war', 'western'], ['sem tema'], ['fiction'], ['fiction'], ['periodicals'], ['history'], ['sem tema'], ['short stories', 'fiction'], ['periodicals', 'literature'], ['fiction', 'drama'], ['history'], ['fiction'], ['history'], ['poetry'], ['fiction'], ['sem tema'], ['sem tema'], ['sem tema'], ['science fiction', 'fiction'], ['history'], ['sem tema'], ['fiction', 'mystery'], ['romance', 'literature'], ['sem tema'], ['fiction'], ['history'], ['history'], ['periodicals'], ['science fiction', 'fiction'], ['fiction', 'short stories', 'american'], ['sem tema'], ['sem tema'], ['description', 'biography'], ['fiction', 'literature', 'romance'], ['fiction'], ['fiction'], ['description', 'history'], ['fiction'], ['poetry'], ['fiction'], ['periodicals'], ['sem tema'], ['fiction'], ['fiction'], ['fiction', 'history'], ['sem tema'], ['fiction', 'history'], ['description'], ['sem tema'], ['periodicals', 'literature'], ['description'], ['periodicals'], ['fiction', 'american'], ['fiction', 'short stories', 'american'], ['tales', 'fiction'], ['war', 'personal narratives'], ['sem tema'], ['history', 'american'], ['sem tema'], ['biography', 'history'], ['history', 'literature'], ['fiction'], ['crime'], ['sem tema'], ['drama'], ['short stories', 'american'], ['fiction', 'family'], ['fiction'], ['sem tema'], ['history'], ['literature'], ['fiction', 'american', 'adventure'], ['poetry', 'american', 'literature'], ['sem tema'], ['short stories', 'fiction'], ['history'], ['science fiction', 'fiction', 'short stories'], ['sem tema'], ['science fiction', 'fiction'], ['history'], ['sem tema'], ['fiction'], ['sem tema'], ['fiction'], ['sem tema'], ['science fiction', 'fiction'], ['history'], ['fiction'], ['biography'], ['fiction'], ['sem tema'], ['drama'], ['ghost', 'fiction'], ['tales'], ['history'], ['fiction'], ['historical', 'fiction', 'political'], ['poetry'], ['sem tema'], ['literature'], ['fiction'], ['fiction'], ['periodicals', 'literature', 'american'], ['history'], ['sem tema'], ['sem tema'], ['adventure'], ['mystery', 'fiction', 'crime'], ['drama', 'comedy'], ['fiction'], ['fiction'], ['literature'], ['history'], ['sem tema'], ['science fiction', 'fiction', 'short stories'], ['short stories'], ['american'], ['history'], ['sem tema'], ['fiction'], ['war', 'fiction'], ['history'], ['fiction', 'history'], ['literature'], ['war', 'fiction'], ['drama'], ['description'], ['sem tema'], ['poetry', 'american'], ['sem tema'], ['history'], ['fiction', 'political'], ['fiction'], ['fiction'], ['fiction'], ['history', 'literature'], ['short stories', 'western', 'fiction'], ['drama'], ['fiction', 'american'], ['periodicals'], ['sem tema'], ['historical', 'fiction', 'history'], ['fiction', 'american', 'short stories', 'humorous stories'], ['description', 'history'], ['sem tema'], ['biography'], ['fiction'], ['fiction'], ['fiction'], ['sem tema'], ['sem tema'], ['fiction'], ['sem tema'], ['sem tema'], ['sem tema'], ['fiction'], ['literature'], ['sem tema'], ['drama'], ['sem tema'], ['war', 'drama'], ['short stories', 'periodicals', 'literature'], ['historical', 'fiction'], ['fiction'], ['fiction'], ['fiction', 'mystery'], ['fiction', 'short stories'], ['description'], ['fiction'], ['history'], ['sem tema'], ['science fiction', 'fiction', 'adventure'], ['fiction', 'adventure'], ['sem tema'], ['science fiction', 'fiction'], ['war', 'history'], ['sem tema'], ['short stories', 'fiction'], ['historical', 'fiction', 'history'], ['history'], ['fantasy', 'literature', 'adventure', 'fiction'], ['tales'], ['history'], ['drama'], ['history'], ['drama'], ['fiction', 'family'], ['american'], ['fiction'], ['description', 'war', 'personal narratives', 'history'], ['history'], ['sem tema'], ['sem tema'], ['sem tema'], ['fiction'], ['periodicals'], ['religious'], ['american'], ['sem tema'], ['fantasy', 'fiction', 'history'], ['romance', 'literature'], ['history'], ['fantasy', 'fiction', 'adventure'], ['sem tema'], ['adventure', 'fiction'], ['literature', 'biography'], ['science fiction', 'fiction', 'short stories'], ['poetry'], ['description'], ['short stories'], ['sem tema'], ['adventure', 'fiction'], ['history'], ['sem tema'], ['fiction', 'short stories', 'american'], ['history'], ['periodicals'], ['literature'], ['fiction'], ['sem tema'], ['fiction'], ['description'], ['fiction', 'fantasy'], ['sem tema'], ['historical', 'fiction', 'war', 'history'], ['sem tema'], ['fiction'], ['fiction', 'literature'], ['fiction'], ['cult'], ['sem tema'], ['fiction'], ['sem tema'], ['sem tema'], ['sem tema'], ['fiction', 'war', 'history'], ['cult'], ['literature'], ['fiction', 'adventure'], ['fiction'], ['fiction'], ['mystery', 'fiction'], ['history', 'biography'], ['fiction'], ['short stories', 'fiction'], ['poetry'], ['periodicals'], ['literature'], ['short stories'], ['sem tema'], ['fiction', 'history'], ['sem tema'], ['fiction'], ['biography', 'war', 'history', 'personal narratives'], ['fiction'], ['history'], ['adventure', 'fiction'], ['sem tema'], ['fiction'], ['sem tema'], ['history'], ['literature'], ['humorous stories', 'fiction'], ['fiction', 'war'], ['fiction'], ['war', 'fiction'], ['fiction'], ['fiction'], ['science fiction', 'fiction', 'war'], ['sem tema'], ['sem tema'], ['historical', 'fiction', 'history', 'adventure'], ['fiction'], ['history'], ['fiction'], ['sem tema'], ['periodicals'], ['periodicals'], ['sem tema'], ['description'], ['history', 'description'], ['science fiction', 'fiction', 'short stories'], ['drama'], ['sem tema'], ['fiction'], ['fiction'], ['fiction'], ['history'], ['periodicals'], ['historical', 'fiction'], ['fiction'], ['drama'], ['sem tema'], ['sem tema'], ['humorous stories', 'fiction'], ['science fiction', 'fiction', 'short stories'], ['sem tema'], ['fiction'], ['poetry'], ['fiction'], ['periodicals'], ['sem tema'], ['sem tema'], ['fiction', 'war'], ['description'], ['historical', 'fiction', 'history'], ['war', 'history'], ['description'], ['sem tema'], ['science fiction', 'fiction', 'short stories'], ['fiction'], ['description'], ['poetry'], ['american'], ['history'], ['sem tema'], ['sem tema'], ['sem tema'], ['war', 'fiction'], ['fiction'], ['history'], ['sem tema'], ['drama'], ['tales'], ['american'], ['description'], ['tales'], ['sem tema'], ['description'], ['science fiction', 'fiction', 'short stories'], ['poetry'], ['poetry'], ['drama'], ['fiction'], ['poetry'], ['sem tema'], ['historical', 'fiction', 'history'], ['sem tema'], ['fiction'], ['sem tema'], ['sem tema'], ['poetry'], ['biography'], ['periodicals'], ['war'], ['description', 'american'], ['sem tema'], ['fiction'], ['fiction'], ['fiction', 'adventure'], ['fiction', 'history'], ['historical', 'fiction', 'war', 'history'], ['history'], ['drama'], ['fiction'], ['political'], ['description'], ['short stories'], ['sem tema'], ['sem tema'], ['fantasy', 'literature', 'fiction'], ['personal narratives'], ['sem tema'], ['religious'], ['drama'], ['biography'], ['sem tema'], ['description'], ['fiction', 'history'], ['science fiction', 'fiction', 'short stories'], ['history'], ['fiction', 'adventure'], ['fiction'], ['fiction', 'history'], ['science fiction', 'fiction', 'short stories'], ['fiction', 'history'], ['sem tema'], ['history', 'religious'], ['short stories'], ['sem tema'], ['war', 'fiction'], ['sem tema'], ['sem tema'], ['biography', 'literature'], ['fiction'], ['poetry'], ['sem tema'], ['tales', 'fiction'], ['sem tema'], ['sem tema'], ['fiction'], ['history'], ['fiction', 'history'], ['fiction'], ['adventure', 'fiction'], ['mystery'], ['fiction'], ['sem tema'], ['sem tema'], ['science fiction', 'fiction'], ['sem tema'], ['tales'], ['poetry', 'american'], ['short stories', 'fiction'], ['sem tema'], ['history'], ['sem tema'], ['history'], ['poetry'], ['periodicals'], ['sem tema'], ['fiction'], ['literature', 'history'], ['sem tema'], ['poetry'], ['history'], ['sem tema'], ['sem tema'], ['poetry', 'history'], ['biography', 'history'], ['science fiction', 'fiction', 'short stories', 'drama'], ['fiction', 'history'], ['fiction'], ['literature'], ['sem tema'], ['war', 'fiction', 'history'], ['history'], ['fiction'], ['poetry'], ['sem tema'], ['fiction'], ['cult'], ['fantasy', 'fiction'], ['periodicals'], ['sem tema'], ['fiction'], ['sem tema'], ['sem tema'], ['poetry', 'american'], ['biography', 'history'], ['biography', 'history'], ['fiction'], ['sem tema'], ['sem tema'], ['history', 'war'], ['sem tema'], ['sem tema'], ['short stories', 'fiction'], ['sem tema'], ['sem tema'], ['fiction', 'literature', 'romance'], ['fiction'], ['drama'], ['sem tema'], ['literature'], ['description'], ['sem tema'], ['description', 'history'], ['fiction'], ['poetry'], ['short stories', 'fiction'], ['science fiction', 'fiction', 'adventure'], ['american'], ['fiction'], ['sem tema'], ['sem tema'], ['historical', 'fiction', 'war', 'history'], ['cult'], ['fiction'], ['drama'], ['fiction'], ['sem tema'], ['history', 'description'], ['history'], ['science fiction', 'fiction', 'short stories', 'war'], ['fiction'], ['fiction', 'sport'], ['science fiction', 'fiction', 'adventure'], ['literature'], ['fiction'], ['drama', 'political', 'comedy'], ['fiction', 'adventure', 'history'], ['sem tema'], ['fiction', 'history'], ['fiction', 'short stories'], ['history'], ['history'], ['war', 'fiction'], ['romance'], ['history'], ['biography', 'literature'], ['american'], ['fiction'], ['sem tema'], ['short stories', 'american'], ['sem tema'], ['short stories', 'periodicals', 'literature'], ['sem tema'], ['history'], ['fiction'], ['sem tema'], ['fantasy', 'fiction'], ['sem tema'], ['fiction'], ['biography'], ['poetry', 'history'], ['sem tema'], ['war', 'fiction'], ['fiction'], ['drama'], ['sem tema'], ['mystery', 'american', 'fiction'], ['war', 'history'], ['sem tema'], ['western', 'fiction'], ['sem tema'], ['sem tema'], ['fiction'], ['fiction'], ['mystery', 'fiction'], ['sem tema'], ['science fiction', 'fiction', 'short stories'], ['humorous stories', 'fiction'], ['sem tema'], ['short stories'], ['history'], ['history'], ['science fiction', 'fiction'], ['fiction'], ['periodicals', 'literature'], ['fiction', 'short stories'], ['fiction'], ['fiction'], ['mystery', 'periodicals'], ['sem tema'], ['sem tema'], ['poetry', 'american'], ['sem tema'], ['fiction'], ['fiction'], ['science fiction', 'fiction'], ['poetry'], ['history'], ['literature'], ['literature', 'poetry', 'history'], ['fantasy', 'fiction', 'horror', 'tales'], ['sem tema'], ['sem tema'], ['poetry'], ['sem tema'], ['science fiction', 'fiction', 'short stories'], ['science fiction', 'fiction', 'short stories'], ['history', 'biography'], ['short stories', 'western', 'fiction'], ['sem tema'], ['history'], ['war', 'fiction'], ['science fiction', 'fiction'], ['american'], ['war'], ['fiction', 'american', 'short stories', 'periodicals'], ['drama', 'history'], ['periodicals', 'american'], ['periodicals'], ['biography'], ['sem tema'], ['short stories', 'fiction'], ['sem tema'], ['sem tema'], ['biography'], ['mystery', 'fiction'], ['humorous stories', 'fiction'], ['fiction'], ['fiction'], ['sem tema'], ['sem tema'], ['history'], ['short stories', 'humorous stories', 'american', 'fiction'], ['mystery', 'fiction'], ['sem tema'], ['fiction'], ['history'], ['fiction'], ['fantasy', 'fiction'], ['periodicals', 'american'], ['historical', 'fiction', 'history'], ['science fiction', 'fiction', 'short stories'], ['history'], ['historical', 'fiction'], ['short stories', 'fiction', 'war', 'history'], ['fiction'], ['short stories', 'fiction'], ['periodicals', 'american'], ['description'], ['poetry'], ['fiction'], ['periodicals', 'literature'], ['fiction'], ['fiction'], ['fiction'], ['biography'], ['american'], ['literature', 'history'], ['sem tema'], ['sem tema'], ['history'], ['sem tema'], ['sem tema'], ['poetry'], ['fiction'], ['description'], ['drama'], ['sem tema'], ['poetry'], ['fiction', 'socialism'], ['sem tema'], ['war'], ['history'], ['sem tema'], ['poetry'], ['poetry'], ['fiction'], ['fiction'], ['history'], ['history', 'description'], ['fiction', 'mystery'], ['fiction', 'mystery'], ['sem tema'], ['fiction', 'adventure'], ['poetry'], ['mystery', 'fiction'], ['description'], ['fiction'], ['poetry'], ['description'], ['sem tema'], ['sem tema'], ['fiction'], ['history'], ['fantasy', 'fiction'], ['fiction'], ['sem tema'], ['sem tema'], ['drama'], ['fiction', 'mystery'], ['fiction', 'sport'], ['sem tema'], ['science fiction', 'fiction', 'short stories', 'fantasy'], ['sport', 'fiction'], ['history'], ['war', 'history'], ['sem tema'], ['fiction'], ['sem tema'], ['sem tema'], ['sem tema'], ['sem tema'], ['sem tema'], ['short stories'], ['periodicals'], ['sem tema'], ['sem tema'], ['history'], ['description'], ['sem tema'], ['science fiction', 'fiction', 'short stories'], ['literature'], ['short stories', 'fiction'], ['fiction', 'mystery'], ['description'], ['comedy', 'drama'], ['fiction'], ['sem tema'], ['history'], ['sem tema'], ['history'], ['war', 'fiction', 'history'], ['literature', 'war'], ['poetry', 'american'], ['american'], ['fiction'], ['biography'], ['poetry'], ['fiction'], ['sem tema'], ['sem tema'], ['sem tema'], ['sem tema'], ['sem tema'], ['sem tema'], ['drama'], ['fiction'], ['american'], ['fiction'], ['sem tema'], ['history'], ['history'], ['fiction'], ['sem tema'], ['western'], ['history'], ['fiction'], ['fiction'], ['fiction'], ['periodicals', 'american'], ['sem tema'], ['history'], ['fiction'], ['sem tema'], ['sem tema'], ['biography', 'history'], ['poetry'], ['sem tema'], ['sem tema'], ['fiction'], ['science fiction', 'fiction', 'short stories'], ['fiction', 'short stories', 'mystery'], ['sem tema'], ['fiction'], ['short stories', 'fiction'], ['historical', 'fiction', 'history'], ['fiction', 'family'], ['war'], ['war', 'history'], ['sem tema'], ['sem tema'], ['science fiction', 'fiction', 'short stories'], ['sem tema'], ['periodicals'], ['fiction'], ['description'], ['american'], ['fiction', 'american'], ['literature'], ['description', 'history', 'biography'], ['science fiction', 'fiction', 'short stories'], ['sem tema'], ['sem tema'], ['sem tema'], ['fiction', 'tales'], ['history'], ['tales'], ['war', 'personal narratives'], ['short stories', 'fiction'], ['ghost'], ['fiction'], ['drama'], ['fiction'], ['science fiction', 'fiction'], ['short stories', 'fiction'], ['war', 'american'], ['periodicals'], ['sem tema'], ['fiction'], ['description'], ['history'], ['fantasy', 'literature', 'fiction', 'adventure', 'war'], ['sem tema'], ['fiction'], ['fiction', 'history'], ['science fiction', 'fiction'], ['drama'], ['fiction', 'short stories'], ['fiction'], ['sem tema'], ['sem tema'], ['history'], ['periodicals'], ['fiction'], ['sem tema'], ['fiction'], ['sem tema'], ['fiction'], ['fiction', 'humorous stories'], ['poetry', 'american'], ['sem tema'], ['fiction'], ['sem tema'], ['sem tema'], ['fiction', 'sport', 'war'], ['sem tema'], ['biography'], ['sem tema'], ['poetry'], ['drama'], ['fiction'], ['fiction'], ['history'], ['fiction', 'political'], ['fiction'], ['sem tema'], ['biography', 'history'], ['poetry'], ['poetry', 'american'], ['drama', 'american', 'family'], ['drama'], ['short stories', 'fiction'], ['sem tema'], ['poetry'], ['literature'], ['history'], ['periodicals'], ['war', 'history'], ['drama', 'american'], ['biography'], ['fiction'], ['sem tema'], ['fiction'], ['fiction'], ['historical', 'fiction', 'history'], ['history', 'biography'], ['war'], ['poetry'], ['mystery'], ['sem tema'], ['biography'], ['science fiction', 'periodicals', 'fiction'], ['science fiction', 'fiction'], ['sem tema'], ['sem tema'], ['fiction', 'mystery'], ['fiction'], ['science fiction', 'fiction', 'short stories'], ['fiction'], ['fiction'], ['periodicals', 'literature', 'american'], ['science fiction', 'fiction'], ['biography'], ['periodicals', 'american'], ['biography'], ['fiction', 'fantasy', 'literature', 'adventure'], ['description'], ['fiction'], ['description', 'american'], ['humorous stories', 'american', 'fiction'], ['poetry'], ['periodicals'], ['sem tema'], ['sem tema'], ['sem tema'], ['war', 'personal narratives'], ['sem tema'], ['periodicals', 'literature'], ['sem tema'], ['fiction'], ['periodicals'], ['poetry'], ['war', 'personal narratives'], ['sem tema'], ['sem tema'], ['periodicals'], ['description'], ['sem tema'], ['fiction'], ['history', 'literature'], ['sem tema'], ['drama'], ['sem tema'], ['humorous stories', 'fiction'], ['fiction'], ['sem tema'], ['fiction'], ['fiction', 'american'], ['fiction', 'literature'], ['fiction'], ['fiction'], ['sem tema'], ['sem tema'], ['fiction', 'literature', 'romance'], ['science fiction', 'fiction', 'short stories'], ['poetry'], ['tales'], ['fiction'], ['fiction', 'short stories'], ['fiction', 'ghost'], ['science fiction', 'fiction', 'short stories'], ['fiction'], ['poetry'], ['fiction', 'short stories'], ['western', 'fiction'], ['fiction'], ['fiction'], ['history'], ['literature', 'poetry', 'romance'], ['history'], ['sem tema'], ['war', 'literature', 'american', 'short stories'], ['fiction'], ['drama'], ['biography', 'history'], ['sem tema'], ['american'], ['history', 'biography'], ['fiction'], ['fiction'], ['description', 'crime'], ['fiction'], ['fiction', 'mystery'], ['drama'], ['war', 'personal narratives', 'western'], ['sem tema'], ['family', 'fiction'], ['sem tema'], ['sem tema'], ['fiction'], ['history', 'biography'], ['science fiction', 'fiction', 'short stories'], ['sem tema'], ['political'], ['literature'], ['sem tema'], ['history'], ['fiction'], ['western', 'fiction'], ['poetry'], ['sem tema'], ['history'], ['fiction'], ['periodicals'], ['fiction'], ['fiction'], ['sem tema'], ['sem tema'], ['history'], ['fiction', 'war'], ['science fiction', 'fiction'], ['fiction'], ['history'], ['science fiction', 'fiction', 'short stories'], ['periodicals'], ['fiction'], ['literature'], ['history'], ['fiction'], ['science fiction', 'fiction', 'short stories', 'horror', 'tales'], ['fiction'], ['history'], ['short stories', 'fiction'], ['fiction'], ['fiction'], ['fiction'], ['fiction'], ['poetry'], ['science fiction', 'fiction', 'adventure'], ['periodicals'], ['sem tema'], ['periodicals', 'literature'], ['fiction', 'war'], ['sem tema'], ['short stories', 'fiction'], ['fiction', 'humorous stories', 'american'], ['sem tema'], ['literature'], ['family', 'fiction'], ['sem tema'], ['fiction'], ['description'], ['periodicals'], ['sem tema'], ['periodicals'], ['description'], ['drama'], ['sem tema'], ['description'], ['sem tema'], ['cult', 'periodicals'], ['description'], ['fiction'], ['war', 'personal narratives'], ['fiction'], ['science fiction', 'fiction', 'short stories'], ['mystery', 'fiction'], ['science fiction', 'fiction', 'short stories'], ['fiction'], ['historical', 'fiction', 'history'], ['poetry', 'american'], ['war', 'description'], ['science fiction', 'fiction'], ['biography'], ['poetry'], ['sem tema'], ['american'], ['fiction', 'poetry'], ['sem tema'], ['literature', 'history'], ['fiction', 'history'], ['science fiction', 'fiction', 'war'], ['fiction', 'mystery'], ['history'], ['history'], ['war', 'history'], ['science fiction', 'fiction'], ['history'], ['sem tema'], ['war', 'history'], ['sem tema'], ['sem tema'], ['fantasy', 'literature', 'humorous stories', 'fiction', 'adventure'], ['war', 'history'], ['periodicals', 'literature', 'american'], ['historical', 'fiction'], ['history'], ['sem tema'], ['romance'], ['sem tema'], ['fiction'], ['fiction'], ['history'], ['description', 'history'], ['fiction'], ['fiction'], ['romance'], ['sem tema'], ['fiction', 'family'], ['poetry'], ['socialism'], ['fiction'], ['western', 'fiction'], ['fiction'], ['fiction'], ['science fiction', 'fiction', 'war'], ['fiction'], ['sem tema'], ['sem tema'], ['sem tema'], ['fiction'], ['sem tema'], ['periodicals'], ['poetry'], ['sem tema'], ['literature'], ['fiction', 'short stories'], ['tales', 'poetry'], ['sem tema'], ['history'], ['science fiction', 'fiction'], ['drama'], ['periodicals'], ['sem tema'], ['drama'], ['war'], ['fiction'], ['short stories', 'humorous stories', 'fiction'], ['periodicals'], ['science fiction', 'fiction'], ['fiction', 'history'], ['sem tema'], ['fiction', 'mystery'], ['sem tema'], ['ghost'], ['mystery', 'fiction'], ['sem tema'], ['fiction'], ['war', 'poetry'], ['fiction', 'war', 'american'], ['sem tema'], ['sem tema'], ['fiction'], ['tales', 'fiction'], ['science fiction', 'fiction'], ['sem tema'], ['war', 'history'], ['sem tema'], ['periodicals'], ['fiction'], ['drama', 'american', 'history'], ['science fiction', 'fiction', 'short stories'], ['fiction'], ['fiction'], ['history'], ['sem tema'], ['history'], ['fiction', 'history'], ['drama'], ['sem tema'], ['poetry'], ['mystery'], ['mystery', 'fiction'], ['history'], ['literature'], ['description'], ['sem tema'], ['short stories', 'fiction'], ['adventure', 'fiction'], ['war', 'history'], ['fiction'], ['fiction'], ['war', 'fiction'], ['history', 'war'], ['literature'], ['sem tema'], ['fiction'], ['sem tema'], ['fiction'], ['fiction'], ['fiction'], ['science fiction', 'fiction', 'short stories'], ['american'], ['fiction'], ['poetry'], ['drama'], ['sem tema'], ['poetry'], ['science fiction', 'fiction'], ['literature', 'american'], ['fiction'], ['sem tema'], ['poetry', 'socialism'], ['fiction'], ['fiction'], ['cult'], ['fiction'], ['sem tema'], ['fiction'], ['sem tema'], ['fiction'], ['sem tema'], ['sem tema'], ['fiction', 'humorous stories'], ['sem tema'], ['fiction'], ['war'], ['periodicals', 'history'], ['fiction'], ['war', 'western'], ['fiction'], ['periodicals'], ['sem tema'], ['sem tema'], ['war'], ['short stories'], ['sem tema'], ['fiction', 'history'], ['fiction', 'history'], ['sem tema'], ['short stories', 'american', 'fiction'], ['tales'], ['history'], ['history', 'biography'], ['poetry'], ['fiction', 'history'], ['fiction', 'family'], ['history', 'biography'], ['periodicals', 'literature'], ['fiction'], ['sem tema'], ['science fiction', 'fiction', 'short stories'], ['science fiction', 'fiction', 'adventure'], ['sem tema'], ['fiction', 'supernatural', 'history'], ['drama'], ['fantasy', 'fiction'], ['fiction', 'adventure', 'history'], ['sem tema'], ['war'], ['cult'], ['history'], ['sem tema'], ['fiction'], ['history'], ['sem tema'], ['periodicals'], ['fiction'], ['historical', 'fiction', 'history'], ['fiction'], ['western', 'fiction', 'mystery', 'description'], ['drama', 'fiction'], ['sem tema'], ['science fiction', 'fiction', 'short stories'], ['sem tema'], ['history'], ['fiction'], ['sem tema'], ['fiction'], ['periodicals', 'history'], ['sem tema'], ['sem tema'], ['sem tema'], ['science fiction', 'fiction', 'short stories'], ['sem tema'], ['history', 'literature'], ['sem tema'], ['science fiction', 'fiction'], ['science fiction', 'fiction', 'short stories'], ['mystery', 'fiction'], ['drama'], ['short stories', 'fiction'], ['poetry'], ['sem tema'], ['fiction', 'family'], ['periodicals'], ['fiction', 'adventure'], ['fiction'], ['history'], ['history'], ['periodicals'], ['sem tema'], ['poetry'], ['sem tema'], ['political', 'war'], ['fiction'], ['history'], ['history', 'biography'], ['short stories'], ['sem tema'], ['literature'], ['literature'], ['drama'], ['sem tema'], ['fiction'], ['fiction'], ['poetry', 'american'], ['periodicals'], ['sem tema'], ['poetry'], ['history'], ['sem tema'], ['war'], ['fiction'], ['description'], ['short stories', 'literature'], ['war', 'fiction', 'history'], ['science fiction', 'fiction', 'short stories'], ['fiction'], ['fiction', 'history'], ['fiction'], ['mystery', 'literature'], ['sem tema'], ['sem tema'], ['drama', 'political', 'comedy'], ['sem tema'], ['adventure', 'fiction'], ['sem tema'], ['drama'], ['science fiction', 'fiction', 'short stories'], ['sem tema'], ['periodicals', 'american'], ['fiction', 'short stories'], ['fiction'], ['sem tema'], ['history'], ['fiction'], ['sem tema'], ['sem tema'], ['periodicals'], ['history'], ['sem tema'], ['history'], ['sem tema'], ['sem tema'], ['short stories', 'war', 'fiction'], ['drama'], ['fiction'], ['sem tema'], ['fiction'], ['drama'], ['literature'], ['sem tema'], ['biography'], ['sem tema'], ['sem tema'], ['fiction', 'american'], ['drama'], ['biography'], ['biography', 'history'], ['fiction', 'mystery'], ['poetry'], ['sem tema'], ['periodicals'], ['historical', 'fiction', 'war', 'history'], ['fiction'], ['sem tema'], ['literature'], ['fiction'], ['science fiction', 'fiction'], ['fiction'], ['poetry'], ['fiction'], ['sem tema'], ['short stories', 'fiction'], ['fiction'], ['western'], ['fiction', 'history'], ['fiction'], ['periodicals'], ['fantasy', 'fiction', 'romance', 'american'], ['sem tema'], ['poetry'], ['poetry', 'fantasy', 'american'], ['fiction'], ['periodicals', 'american'], ['fiction', 'war'], ['drama'], ['history'], ['fiction'], ['fiction'], ['periodicals', 'american'], ['science fiction', 'fiction', 'short stories'], ['fiction'], ['adventure', 'fiction'], ['family', 'fiction'], ['historical', 'fiction'], ['periodicals'], ['sem tema'], ['fiction'], ['fiction'], ['short stories', 'fiction'], ['fiction'], ['history'], ['sem tema'], ['sem tema'], ['sem tema'], ['sem tema'], ['poetry'], ['periodicals', 'history'], ['sem tema'], ['fiction', 'history'], ['biography'], ['fiction', 'mystery'], ['fiction', 'short stories'], ['sem tema'], ['tales', 'fiction'], ['periodicals', 'literature'], ['drama'], ['humorous stories', 'fiction'], ['history', 'description'], ['fiction', 'war'], ['poetry'], ['fiction'], ['sem tema'], ['fiction'], ['fiction'], ['adventure', 'fiction'], ['sem tema'], ['sem tema'], ['fiction'], ['drama'], ['periodicals'], ['poetry'], ['sem tema'], ['fiction'], ['poetry', 'american'], ['sem tema'], ['science fiction', 'fiction', 'adventure'], ['sem tema'], ['sem tema'], ['periodicals'], ['humorous stories', 'fiction', 'history'], ['history', 'literature'], ['sem tema'], ['literature'], ['drama'], ['fiction'], ['fiction'], ['sem tema'], ['science fiction', 'fiction', 'short stories', 'adventure'], ['fiction', 'american'], ['sem tema'], ['history'], ['fiction'], ['sem tema'], ['sem tema'], ['description'], ['humorous stories', 'fiction'], ['sem tema'], ['fiction', 'witchcraft', 'history'], ['biography', 'american'], ['sem tema'], ['science fiction', 'fiction', 'crime'], ['periodicals', 'description'], ['war', 'fiction', 'history'], ['poetry'], ['sem tema'], ['sem tema'], ['fiction'], ['fiction'], ['fiction', 'mystery'], ['sem tema'], ['literature'], ['short stories'], ['fiction'], ['history'], ['fiction', 'fantasy', 'adventure'], ['war', 'religious', 'history'], ['poetry'], ['science fiction', 'fiction', 'adventure'], ['sem tema'], ['sem tema'], ['science fiction', 'fiction', 'short stories'], ['poetry'], ['fiction'], ['socialism'], ['history'], ['war'], ['sem tema'], ['fiction'], ['sem tema'], ['history', 'literature'], ['periodicals'], ['fiction'], ['war', 'personal narratives'], ['science fiction', 'fiction', 'short stories'], ['fiction', 'history'], ['war', 'fiction'], ['fiction'], ['biography'], ['war', 'fiction', 'history'], ['sem tema'], ['sem tema'], ['science fiction', 'fiction'], ['sem tema'], ['fiction'], ['periodicals', 'literature'], ['fiction', 'history'], ['periodicals', 'american'], ['fiction', 'short stories'], ['poetry'], ['sem tema'], ['fiction'], ['periodicals', 'literature', 'american'], ['fiction'], ['sem tema'], ['fiction'], ['fiction'], ['fiction'], ['fiction'], ['history'], ['poetry'], ['description'], ['fiction', 'history'], ['drama'], ['literature', 'adventure'], ['war', 'fiction', 'history'], ['fiction'], ['poetry'], ['science fiction', 'fiction'], ['fiction'], ['poetry'], ['periodicals'], ['history'], ['history'], ['sem tema'], ['war'], ['science fiction', 'fiction', 'short stories'], ['science fiction', 'fiction'], ['sem tema'], ['history'], ['religious', 'fiction'], ['sem tema'], ['historical', 'fiction'], ['poetry', 'fiction'], ['fiction', 'romance'], ['fiction', 'war', 'history'], ['poetry'], ['poetry'], ['description'], ['history'], ['war', 'history'], ['fiction'], ['sem tema'], ['poetry'], ['humorous stories', 'fiction'], ['sem tema'], ['sem tema'], ['fiction', 'history'], ['history'], ['history', 'supernatural'], ['drama', 'history'], ['history'], ['short stories', 'fiction'], ['war'], ['fiction'], ['periodicals'], ['description'], ['sem tema'], ['poetry', 'american'], ['short stories', 'fiction'], ['sem tema'], ['fiction'], ['fiction'], ['sem tema'], ['fiction'], ['fiction'], ['historical', 'fiction'], ['fiction'], ['science fiction', 'fiction', 'short stories'], ['fiction'], ['literature'], ['mystery', 'fiction', 'adventure'], ['sem tema'], ['fiction'], ['sem tema'], ['sem tema'], ['fiction'], ['biography'], ['history'], ['poetry'], ['fiction'], ['fiction', 'short stories', 'mystery'], ['sem tema'], ['science fiction', 'fiction'], ['short stories'], ['history'], ['history'], ['periodicals'], ['fiction', 'short stories'], ['fiction'], ['tales', 'fantasy', 'fiction'], ['periodicals', 'literature'], ['poetry'], ['fiction', 'adventure'], ['fiction', 'war'], ['sem tema'], ['biography'], ['adventure'], ['sem tema'], ['drama'], ['sem tema'], ['fiction'], ['fiction'], ['sem tema'], ['fiction', 'socialism'], ['fiction', 'mystery'], ['sem tema'], ['poetry'], ['sem tema'], ['fiction'], ['description'], ['short stories'], ['history'], ['fiction'], ['sem tema'], ['sem tema'], ['fiction', 'family', 'religious'], ['drama'], ['science fiction', 'fiction'], ['sem tema'], ['sem tema'], ['fiction'], ['fiction', 'adventure'], ['sem tema'], ['description', 'history'], ['periodicals', 'literature'], ['sem tema'], ['sem tema'], ['fiction', 'cult'], ['sem tema'], ['science fiction', 'fiction'], ['fiction'], ['fiction'], ['description', 'history'], ['humorous stories', 'poetry', 'history'], ['short stories'], ['romance'], ['periodicals', 'history', 'literature'], ['fiction'], ['biography'], ['sem tema'], ['sem tema'], ['sem tema'], ['sem tema'], ['fiction', 'history'], ['war', 'history'], ['tales'], ['periodicals'], ['fiction'], ['fiction', 'literature'], ['history', 'literature', 'fiction'], ['fiction'], ['historical', 'fiction', 'history'], ['science fiction', 'fiction'], ['fiction'], ['sem tema'], ['fiction', 'tales'], ['sem tema'], ['sem tema'], ['sem tema'], ['fiction'], ['sem tema'], ['sem tema'], ['historical', 'fiction', 'romance'], ['western'], ['science fiction', 'fiction', 'adventure'], ['poetry', 'fiction'], ['sem tema'], ['fiction'], ['literature'], ['fiction'], ['history'], ['sem tema'], ['fiction'], ['sem tema'], ['fiction', 'short stories', 'american'], ['mystery', 'periodicals'], ['mystery', 'fiction'], ['sem tema'], ['history'], ['fiction'], ['fiction'], ['science fiction', 'fiction', 'short stories', 'western'], ['history', 'biography'], ['sem tema'], ['fiction'], ['history'], ['periodicals'], ['biography'], ['fiction', 'short stories', 'mystery'], ['tales'], ['fiction'], ['drama'], ['science fiction', 'fiction', 'short stories', 'adventure'], ['biography'], ['sem tema'], ['fiction', 'history'], ['fiction', 'war', 'mystery'], ['fiction'], ['sem tema'], ['drama', 'comedy'], ['biography'], ['periodicals'], ['fantasy', 'fiction', 'romance', 'american'], ['history'], ['history'], ['history'], ['periodicals', 'nature'], ['fiction', 'socialism'], ['sem tema'], ['periodicals'], ['biography'], ['poetry'], ['sem tema'], ['war'], ['sem tema'], ['fiction', 'adventure'], ['poetry', 'drama'], ['sem tema'], ['description', 'history'], ['fiction'], ['sem tema'], ['sem tema'], ['sem tema'], ['sem tema'], ['sem tema'], ['sem tema'], ['fiction'], ['sem tema'], ['sem tema'], ['poetry'], ['western', 'fiction', 'american'], ['periodicals', 'literature', 'history'], ['sem tema'], ['war'], ['science fiction', 'fiction', 'short stories'], ['description'], ['description', 'history'], ['war'], ['war', 'american'], ['sem tema'], ['sem tema'], ['periodicals'], ['literature', 'poetry'], ['fiction', 'history'], ['biography'], ['poetry'], ['sem tema'], ['science fiction', 'fiction'], ['short stories', 'fiction'], ['fiction'], ['sem tema'], ['fiction'], ['history'], ['cult', 'american'], ['fiction'], ['description'], ['sem tema'], ['sem tema'], ['sem tema'], ['fiction'], ['sem tema'], ['fiction', 'historical', 'history'], ['sem tema'], ['historical', 'fiction', 'history'], ['fantasy', 'fiction'], ['sem tema'], ['sem tema'], ['sem tema'], ['fiction', 'history'], ['fiction'], ['fiction'], ['history'], ['history'], ['sem tema'], ['fiction', 'tales'], ['literature', 'american'], ['sem tema'], ['description'], ['sem tema'], ['fiction'], ['fiction', 'adventure'], ['biography'], ['history', 'literature'], ['fiction'], ['fiction'], ['fiction'], ['history'], ['sem tema'], ['drama'], ['science fiction', 'fiction', 'short stories'], ['biography'], ['description'], ['science fiction', 'fiction', 'short stories'], ['fiction'], ['historical', 'fiction'], ['description'], ['cult'], ['sem tema'], ['fiction'], ['fiction'], ['historical', 'fiction', 'short stories', 'american'], ['history', 'literature'], ['fiction'], ['sem tema'], ['history'], ['biography'], ['fiction'], ['sem tema'], ['fiction'], ['cult', 'periodicals'], ['sem tema'], ['periodicals'], ['sem tema'], ['sem tema'], ['fiction'], ['tales'], ['humorous stories'], ['fiction', 'history'], ['sem tema'], ['description', 'history'], ['science fiction', 'fiction'], ['literature', 'history'], ['sem tema'], ['sem tema'], ['fiction'], ['history'], ['fiction'], ['drama'], ['fiction', 'war'], ['short stories', 'fiction'], ['sem tema'], ['war', 'fiction', 'history', 'american'], ['fiction'], ['short stories', 'fiction'], ['fiction'], ['fiction', 'adventure', 'history'], ['literature'], ['fiction'], ['short stories'], ['war'], ['fiction', 'literature', 'romance'], ['biography'], ['sem tema'], ['poetry'], ['sem tema'], ['fiction'], ['sem tema'], ['sem tema'], ['war', 'fiction'], ['fiction', 'american'], ['fiction', 'fantasy', 'literature'], ['historical', 'fiction'], ['description'], ['drama'], ['american'], ['history'], ['fiction'], ['sem tema'], ['sem tema'], ['description'], ['sem tema'], ['science fiction', 'fiction', 'short stories', 'adventure'], ['fiction'], ['short stories'], ['fiction'], ['drama'], ['sem tema'], ['sem tema'], ['sem tema'], ['sem tema'], ['fiction', 'adventure'], ['short stories', 'american', 'fiction'], ['sem tema'], ['sem tema'], ['fiction'], ['short stories'], ['fiction', 'american'], ['sem tema'], ['fiction'], ['short stories', 'fiction'], ['fiction'], ['sem tema'], ['sem tema'], ['literature', 'poetry'], ['periodicals'], ['sem tema'], ['sem tema'], ['drama', 'american'], ['sem tema'], ['fiction', 'history'], ['poetry'], ['sem tema'], ['biography'], ['adventure', 'fiction'], ['science fiction', 'fiction', 'short stories', 'crime'], ['fiction', 'family'], ['fiction'], ['biography'], ['sem tema'], ['humorous stories', 'fiction'], ['fiction'], ['science fiction', 'fiction'], ['literature', 'tales', 'romance'], ['sem tema'], ['drama', 'history', 'historical'], ['periodicals'], ['history'], ['sem tema'], ['sem tema'], ['drama'], ['periodicals', 'literature'], ['history'], ['science fiction', 'fiction', 'short stories', 'mystery'], ['fiction'], ['description'], ['periodicals'], ['fiction', 'adventure'], ['science fiction', 'fiction', 'short stories', 'war'], ['description'], ['drama'], ['cult'], ['history'], ['fiction'], ['war'], ['history'], ['tales', 'fiction'], ['sem tema'], ['fiction'], ['sem tema'], ['periodicals'], ['sem tema'], ['fiction'], ['literature'], ['ghost'], ['tales'], ['sem tema'], ['adventure', 'fiction'], ['fiction', 'short stories'], ['religious'], ['fiction'], ['adventure', 'fiction'], ['sem tema'], ['history'], ['american'], ['sem tema'], ['western', 'fiction'], ['sem tema'], ['sem tema'], ['sem tema'], ['fiction', 'literature', 'romance'], ['science fiction', 'fiction', 'short stories'], ['drama'], ['fiction'], ['poetry'], ['fiction', 'american'], ['fiction', 'description'], ['description'], ['fiction'], ['literature'], ['short stories', 'american', 'tales'], ['poetry'], ['drama'], ['sem tema'], ['biography', 'literature'], ['sem tema'], ['description', 'sport'], ['poetry'], ['poetry'], ['poetry'], ['drama'], ['fiction'], ['periodicals'], ['fiction'], ['political', 'drama'], ['fiction'], ['poetry', 'american'], ['poetry'], ['fiction'], ['science fiction', 'fiction', 'short stories'], ['description'], ['short stories', 'fiction'], ['sem tema'], ['historical', 'fiction', 'war', 'family', 'history'], ['poetry'], ['periodicals'], ['sem tema'], ['sem tema'], ['fiction'], ['war', 'history'], ['sem tema'], ['history'], ['fiction', 'history'], ['fiction'], ['sem tema'], ['science fiction', 'fiction', 'short stories'], ['drama', 'history', 'historical'], ['fiction', 'american'], ['sem tema'], ['periodicals', 'literature'], ['fiction', 'adventure'], ['sem tema'], ['sem tema'], ['description'], ['fiction'], ['fiction'], ['fiction'], ['romance'], ['fiction'], ['fiction'], ['description', 'history'], ['sem tema'], ['sem tema'], ['fiction'], ['biography', 'american', 'description'], ['sport'], ['sem tema'], ['sem tema'], ['drama'], ['war', 'fiction'], ['periodicals'], ['fiction'], ['sem tema'], ['sem tema'], ['history'], ['history'], ['short stories', 'fiction'], ['political'], ['sem tema'], ['sem tema'], ['sem tema'], ['tales'], ['fiction'], ['fiction'], ['history'], ['fiction', 'fantasy', 'adventure'], ['science fiction', 'fiction'], ['description'], ['sem tema'], ['periodicals', 'short stories', 'literature'], ['science fiction', 'fiction'], ['western'], ['sem tema'], ['sem tema'], ['description'], ['fiction'], ['war', 'fiction', 'history'], ['sem tema'], ['short stories', 'periodicals'], ['war'], ['fiction'], ['drama'], ['american'], ['description'], ['fiction', 'family'], ['mystery', 'periodicals'], ['description'], ['fiction'], ['history', 'literature'], ['sem tema'], ['sem tema'], ['fiction', 'short stories'], ['history'], ['history'], ['sem tema'], ['sem tema'], ['short stories', 'fiction'], ['sem tema'], ['fiction'], ['fiction', 'drama'], ['sem tema'], ['sem tema'], ['description', 'literature'], ['fiction'], ['sem tema'], ['sem tema'], ['sem tema'], ['sem tema'], ['history', 'war', 'american'], ['history'], ['sem tema'], ['history'], ['periodicals'], ['romance'], ['short stories', 'fiction', 'political'], ['sem tema'], ['description', 'american'], ['war'], ['fiction'], ['fiction'], ['fiction', 'history'], ['sem tema'], ['fiction'], ['sem tema'], ['war', 'history'], ['sem tema'], ['war', 'fiction', 'history'], ['cult'], ['sem tema'], ['fiction'], ['biography', 'history'], ['mystery', 'fiction'], ['fiction'], ['history'], ['sem tema'], ['history'], ['sem tema'], ['fiction'], ['sem tema'], ['drama'], ['drama'], ['periodicals'], ['poetry'], ['comedy', 'drama'], ['fiction'], ['fiction'], ['poetry'], ['fiction'], ['history'], ['poetry', 'drama'], ['periodicals', 'american'], ['sem tema'], ['cult', 'periodicals'], ['war', 'history'], ['sem tema'], ['war', 'literature'], ['short stories', 'fiction'], ['biography'], ['short stories', 'fiction'], ['sem tema'], ['biography', 'history'], ['sem tema'], ['sem tema'], ['periodicals', 'literature', 'american'], ['history'], ['historical', 'fiction'], ['sem tema'], ['historical', 'fiction'], ['sem tema'], ['sem tema'], ['sem tema'], ['fiction'], ['fiction'], ['periodicals', 'literature'], ['fiction', 'mystery'], ['fiction'], ['fiction'], ['literature'], ['sem tema'], ['drama'], ['drama'], ['biography'], ['history'], ['history'], ['short stories', 'fiction'], ['fiction', 'sport'], ['fiction'], ['sem tema'], ['poetry', 'history', 'romance'], ['sem tema'], ['fiction'], ['description'], ['description'], ['sem tema'], ['science fiction', 'fiction', 'short stories'], ['sem tema'], ['periodicals'], ['sem tema'], ['fiction', 'family'], ['science fiction', 'fiction', 'short stories'], ['humorous stories', 'american', 'fiction'], ['fiction'], ['poetry', 'american'], ['crime'], ['tales'], ['history'], ['periodicals'], ['poetry', 'history'], ['science fiction', 'fiction'], ['history'], ['tales'], ['sem tema'], ['sem tema'], ['fiction'], ['biography'], ['drama'], ['historical', 'fiction'], ['war', 'fiction', 'history'], ['fiction'], ['fiction', 'adventure'], ['history', 'literature'], ['sem tema'], ['sem tema'], ['fiction'], ['fiction'], ['fiction'], ['tales'], ['science fiction', 'fiction', 'short stories'], ['fiction', 'adventure'], ['biography'], ['sem tema'], ['sem tema'], ['sem tema'], ['fiction'], ['fiction', 'ghost'], ['historical', 'fiction', 'war', 'history'], ['fiction'], ['fiction', 'short stories'], ['history'], ['fiction'], ['fiction'], ['fiction'], ['sem tema'], ['fiction', 'history'], ['fiction', 'history', 'short stories'], ['description'], ['fiction'], ['historical', 'fiction'], ['short stories'], ['american'], ['war', 'fiction', 'history'], ['western', 'fiction'], ['history', 'literature'], ['sem tema'], ['sem tema'], ['science fiction', 'fiction'], ['fiction'], ['tales', 'literature'], ['sem tema'], ['mystery'], ['fiction'], ['description', 'history'], ['sem tema'], ['history', 'literature'], ['sem tema'], ['sem tema'], ['science fiction', 'fiction', 'short stories'], ['fiction'], ['periodicals', 'literature', 'mystery', 'american'], ['sem tema'], ['drama'], ['fiction'], ['periodicals'], ['sem tema'], ['drama'], ['history'], ['biography'], ['fiction', 'history'], ['sem tema'], ['poetry'], ['sem tema'], ['fiction'], ['description', 'history'], ['sem tema'], ['sem tema'], ['sem tema'], ['history'], ['sem tema'], ['history'], ['fiction', 'mystery'], ['sem tema'], ['sem tema'], ['sem tema'], ['fiction'], ['war', 'fiction', 'history'], ['mystery', 'periodicals'], ['history'], ['description'], ['humorous stories', 'fiction', 'mystery'], ['tales'], ['sem tema'], ['science fiction', 'fiction', 'short stories'], ['western', 'fiction'], ['historical', 'fiction', 'history'], ['biography'], ['fiction'], ['sem tema'], ['science fiction', 'fiction', 'fantasy', 'adventure'], ['sem tema'], ['witchcraft'], ['science fiction', 'fiction'], ['poetry'], ['cult'], ['sem tema'], ['mystery', 'fiction'], ['biography', 'history'], ['fiction'], ['sem tema'], ['description'], ['fiction'], ['tales'], ['sem tema'], ['description'], ['sem tema'], ['poetry'], ['war', 'fiction', 'history'], ['fiction'], ['biography'], ['humorous stories', 'fiction'], ['sem tema'], ['drama'], ['sem tema'], ['poetry'], ['biography', 'war'], ['description'], ['fiction'], ['fiction'], ['sem tema'], ['periodicals', 'literature'], ['poetry', 'history'], ['fiction'], ['war'], ['description'], ['sem tema'], ['biography', 'history'], ['sem tema'], ['poetry'], ['sem tema'], ['fiction', 'history'], ['fiction'], ['sem tema'], ['drama'], ['humorous stories', 'fiction'], ['sem tema'], ['fiction', 'short stories', 'american'], ['history'], ['fiction'], ['sem tema'], ['history'], ['poetry'], ['war', 'fiction'], ['fiction'], ['drama'], ['sem tema'], ['poetry', 'history', 'nature', 'literature'], ['science fiction', 'fiction', 'short stories'], ['biography', 'literature'], ['fiction'], ['sem tema'], ['history'], ['war', 'fiction'], ['sem tema'], ['tales'], ['history'], ['fiction', 'history'], ['biography', 'literature'], ['fiction'], ['sem tema'], ['sem tema'], ['mystery'], ['american'], ['war'], ['fiction'], ['sem tema'], ['sem tema'], ['fiction'], ['description'], ['sem tema'], ['american'], ['sem tema'], ['sem tema'], ['sem tema'], ['short stories', 'fiction'], ['periodicals'], ['fiction'], ['mystery'], ['fiction'], ['sem tema'], ['sem tema'], ['sem tema'], ['fiction', 'mystery'], ['sem tema'], ['periodicals', 'american'], ['poetry'], ['science fiction', 'fiction', 'short stories'], ['fiction', 'american'], ['fiction'], ['drama'], ['historical', 'fiction'], ['historical', 'fiction', 'war', 'history'], ['sem tema'], ['fiction'], ['fiction'], ['science fiction', 'fiction'], ['mystery', 'periodicals'], ['fiction', 'history'], ['humorous stories', 'poetry', 'history'], ['sem tema'], ['fiction'], ['fiction'], ['history'], ['fiction'], ['war', 'fiction', 'history'], ['drama', 'american', 'periodicals', 'literature'], ['sem tema'], ['sem tema'], ['fiction'], ['sem tema'], ['sem tema'], ['drama'], ['periodicals', 'american'], ['sem tema'], ['history'], ['fiction'], ['literature', 'fiction'], ['science fiction', 'fiction', 'short stories'], ['sem tema'], ['humorous stories', 'fiction'], ['mystery', 'short stories', 'american'], ['drama'], ['mystery', 'fiction', 'history'], ['drama'], ['fiction'], ['history'], ['fiction'], ['fiction'], ['sem tema'], ['sem tema'], ['mystery', 'fiction'], ['fiction'], ['american'], ['short stories', 'fiction'], ['war', 'history'], ['fiction'], ['fiction'], ['sem tema'], ['literature'], ['periodicals'], ['sem tema'], ['history'], ['western', 'fiction'], ['history'], ['fiction'], ['literature'], ['fiction'], ['sem tema'], ['poetry'], ['fiction'], ['sem tema'], ['literature'], ['drama'], ['tales'], ['sem tema'], ['science fiction', 'fiction', 'short stories'], ['history'], ['fiction'], ['sem tema'], ['fiction'], ['sem tema'], ['history', 'political'], ['history'], ['sem tema'], ['sem tema'], ['periodicals', 'literature', 'mystery', 'american'], ['sem tema'], ['sem tema'], ['sem tema'], ['periodicals', 'literature'], ['sem tema'], ['history'], ['war'], ['fiction'], ['sem tema'], ['western', 'fiction'], ['fiction'], ['war'], ['sem tema'], ['sem tema'], ['sem tema'], ['description'], ['sem tema'], ['sem tema'], ['periodicals'], ['science fiction', 'fiction'], ['historical', 'fiction', 'history'], ['history'], ['fiction', 'supernatural', 'history'], ['sem tema'], ['periodicals'], ['sem tema'], ['description'], ['poetry'], ['tales'], ['literature', 'poetry', 'adventure'], ['history'], ['romance', 'history'], ['sem tema'], ['fiction', 'war'], ['science fiction', 'fiction', 'short stories', 'war'], ['history'], ['mystery', 'fiction'], ['sem tema'], ['sem tema'], ['biography'], ['fiction'], ['drama'], ['sem tema'], ['fiction'], ['biography', 'history'], ['sem tema'], ['poetry', 'history'], ['tales'], ['fiction', 'history'], ['history'], ['fiction'], ['periodicals'], ['sem tema'], ['periodicals'], ['science fiction', 'fiction', 'mystery'], ['description'], ['sem tema'], ['history', 'war'], ['biography'], ['biography', 'american', 'description', 'history'], ['fiction'], ['description'], ['biography', 'war', 'history', 'personal narratives'], ['sem tema'], ['fiction'], ['biography', 'literature'], ['fiction'], ['sem tema'], ['fiction'], ['mystery', 'fiction'], ['poetry'], ['poetry'], ['sem tema'], ['description'], ['sem tema'], ['fiction'], ['fiction', 'history'], ['fiction'], ['poetry'], ['fiction'], ['fiction'], ['american', 'biography'], ['science fiction', 'fiction', 'short stories'], ['science fiction', 'fiction'], ['fiction'], ['sem tema'], ['poetry'], ['fiction'], ['poetry'], ['fiction'], ['sem tema'], ['fiction', 'fantasy', 'adventure'], ['fiction'], ['biography'], ['fiction', 'history'], ['periodicals', 'literature'], ['drama'], ['sem tema'], ['short stories', 'western', 'fiction'], ['fiction'], ['periodicals', 'history'], ['sem tema'], ['sem tema'], ['sem tema'], ['fiction'], ['description'], ['sem tema'], ['fiction'], ['poetry'], ['drama'], ['sem tema'], ['sem tema'], ['history'], ['history'], ['history', 'description'], ['history', 'poetry'], ['history'], ['fiction'], ['sem tema'], ['sem tema'], ['periodicals'], ['poetry'], ['science fiction', 'fiction', 'short stories'], ['periodicals', 'american'], ['sem tema'], ['sem tema'], ['sem tema'], ['adventure'], ['romance'], ['history'], ['fiction'], ['fiction'], ['periodicals'], ['western', 'fiction'], ['science fiction', 'fiction', 'short stories'], ['historical', 'fiction'], ['history'], ['war', 'fiction'], ['fiction'], ['war', 'fiction', 'history'], ['fiction'], ['science fiction', 'fiction', 'short stories', 'war'], ['war'], ['fiction'], ['description'], ['literature', 'fiction'], ['sem tema'], ['fiction'], ['history'], ['fiction'], ['fiction'], ['science fiction', 'fiction', 'short stories'], ['science fiction', 'fiction', 'adventure'], ['science fiction', 'fiction', 'short stories'], ['fiction'], ['sem tema'], ['fiction', 'fantasy'], ['sem tema'], ['poetry'], ['historical', 'fiction'], ['fiction'], ['fiction'], ['historical', 'fiction', 'history', 'adventure'], ['fiction'], ['fiction', 'fantasy'], ['sem tema'], ['sem tema'], ['science fiction', 'fiction', 'short stories'], ['periodicals', 'literature'], ['tales', 'fiction'], ['poetry', 'literature'], ['sem tema'], ['literature'], ['sem tema'], ['description'], ['biography', 'political', 'history'], ['mystery', 'periodicals'], ['fiction'], ['fiction'], ['fiction'], ['science fiction', 'fiction', 'short stories'], ['science fiction', 'fiction', 'short stories'], ['sem tema'], ['periodicals', 'american'], ['cult'], ['fiction'], ['science fiction', 'fiction', 'short stories'], ['history'], ['biography', 'war', 'personal narratives', 'history'], ['short stories', 'american', 'fiction'], ['science fiction', 'periodicals', 'fiction', 'american'], ['drama'], ['sem tema'], ['poetry'], ['short stories', 'fiction'], ['sem tema'], ['fiction'], ['periodicals', 'literature', 'american'], ['history'], ['poetry', 'american'], ['sem tema'], ['periodicals'], ['history'], ['poetry'], ['drama'], ['sem tema'], ['sem tema'], ['sem tema'], ['sem tema'], ['history'], ['science fiction', 'fiction', 'short stories'], ['drama'], ['fiction', 'mystery'], ['fiction'], ['fiction'], ['fiction'], ['poetry', 'american'], ['fiction', 'adventure', 'war'], ['fiction'], ['fiction'], ['fiction'], ['sem tema'], ['drama'], ['war', 'personal narratives'], ['sem tema'], ['cult'], ['fiction'], ['fiction'], ['fiction'], ['fiction'], ['fiction'], ['history'], ['american'], ['description'], ['history'], ['tales'], ['sem tema'], ['sem tema'], ['sem tema'], ['war', 'fiction'], ['sem tema'], ['fiction'], ['sem tema'], ['sem tema'], ['war', 'cult'], ['literature'], ['sem tema'], ['fiction', 'adventure'], ['tales'], ['drama'], ['fiction'], ['drama'], ['biography'], ['fiction'], ['humorous stories', 'fiction', 'short stories', 'family'], ['poetry'], ['sem tema'], ['science fiction', 'fiction', 'short stories'], ['periodicals'], ['sem tema'], ['sem tema'], ['periodicals', 'literature'], ['fiction'], ['western', 'fiction'], ['short stories', 'fiction'], ['short stories', 'periodicals', 'american'], ['sem tema'], ['poetry'], ['fiction', 'history'], ['poetry'], ['historical', 'fiction', 'history'], ['biography'], ['science fiction', 'fiction', 'short stories'], ['drama'], ['sem tema'], ['sem tema'], ['sem tema'], ['fiction'], ['war', 'fiction'], ['fiction', 'mystery'], ['description'], ['science fiction', 'fiction', 'short stories', 'war'], ['science fiction', 'fiction', 'short stories'], ['war', 'history'], ['periodicals', 'history'], ['literature'], ['fiction'], ['historical', 'fiction', 'religious'], ['literature'], ['fiction', 'history'], ['mystery'], ['sem tema'], ['sem tema'], ['sem tema'], ['fiction'], ['description'], ['fiction', 'short stories', 'american'], ['war', 'biography'], ['drama'], ['western'], ['tales'], ['short stories', 'fiction'], ['mystery', 'fiction'], ['science fiction', 'fiction'], ['mystery', 'fiction'], ['periodicals', 'literature'], ['american'], ['science fiction', 'fiction', 'short stories', 'war'], ['sem tema'], ['fiction', 'adventure'], ['sem tema'], ['fiction'], ['description'], ['fiction'], ['sem tema'], ['sem tema'], ['fiction'], ['fiction'], ['fiction'], ['science fiction', 'fiction', 'short stories'], ['science fiction', 'fiction', 'adventure'], ['description'], ['fiction', 'mystery'], ['sem tema'], ['sem tema'], ['drama'], ['fiction'], ['sem tema'], ['comedy', 'drama'], ['fiction', 'american'], ['drama'], ['fiction'], ['science fiction', 'fiction'], ['sem tema'], ['fiction'], ['history'], ['fiction'], ['description'], ['sem tema'], ['crime'], ['periodicals'], ['fiction'], ['sem tema'], ['sem tema'], ['poetry', 'american'], ['fiction'], ['sem tema'], ['sem tema'], ['sem tema'], ['fiction'], ['historical', 'fiction', 'history'], ['sem tema'], ['american'], ['short stories', 'fiction'], ['drama'], ['sem tema'], ['fiction'], ['biography', 'war', 'personal narratives'], ['american'], ['description'], ['sem tema'], ['sem tema'], ['drama'], ['fiction'], ['fiction'], ['biography', 'american'], ['fiction', 'history'], ['sem tema'], ['fiction'], ['science fiction', 'fiction'], ['fiction'], ['fiction', 'adventure', 'history'], ['fiction', 'history'], ['sem tema'], ['sem tema'], ['science fiction', 'fiction', 'short stories', 'war'], ['sem tema'], ['western', 'adventure', 'fiction'], ['fiction', 'mystery'], ['history'], ['fiction', 'poetry'], ['literature'], ['fiction'], ['sem tema'], ['sem tema'], ['sem tema'], ['drama'], ['fiction'], ['fiction'], ['science fiction', 'fiction', 'short stories'], ['biography'], ['sem tema'], ['fiction', 'short stories'], ['fiction'], ['fiction'], ['sem tema'], ['drama', 'history'], ['war'], ['literature', 'war', 'poetry'], ['sem tema'], ['war', 'fiction', 'history'], ['war', 'history'], ['sem tema'], ['short stories', 'fiction'], ['sem tema'], ['sem tema'], ['fiction'], ['periodicals'], ['comedy', 'drama'], ['war'], ['american'], ['science fiction', 'fiction', 'short stories'], ['periodicals', 'american'], ['fantasy', 'fiction'], ['sem tema'], ['literature'], ['drama'], ['fiction'], ['fantasy', 'literature', 'fiction', 'adventure', 'war'], ['sem tema'], ['fiction'], ['science fiction', 'fiction', 'short stories'], ['sem tema'], ['fiction'], ['fiction'], ['fiction'], ['fiction'], ['fiction'], ['fiction'], ['fiction', 'adventure', 'mystery'], ['sem tema'], ['sem tema'], ['poetry'], ['fiction'], ['war', 'fiction', 'history'], ['fiction'], ['mystery', 'fiction'], ['periodicals', 'literature'], ['periodicals'], ['fiction'], ['poetry'], ['history'], ['tales'], ['sem tema'], ['fiction'], ['poetry', 'drama'], ['sem tema'], ['fiction', 'family'], ['sem tema'], ['fiction', 'history'], ['sem tema'], ['fiction'], ['sem tema'], ['fiction', 'adventure'], ['fiction'], ['fiction'], ['religious'], ['drama'], ['drama', 'poetry'], ['short stories', 'fiction'], ['historical', 'fiction', 'history', 'adventure'], ['ghost'], ['sem tema'], ['sem tema'], ['biography'], ['fiction'], ['fiction', 'history'], ['sem tema'], ['drama', 'fiction', 'mystery'], ['sem tema'], ['drama'], ['drama'], ['science fiction', 'fiction', 'short stories', 'humorous stories', 'adventure'], ['fiction'], ['periodicals'], ['sem tema'], ['short stories', 'american', 'fiction'], ['periodicals'], ['sem tema'], ['socialism'], ['sem tema'], ['history'], ['comedy', 'drama'], ['sem tema'], ['science fiction', 'fiction'], ['periodicals'], ['fiction'], ['fiction'], ['sem tema'], ['description'], ['short stories', 'fiction'], ['sem tema'], ['sem tema'], ['biography', 'history'], ['fiction'], ['biography'], ['fiction'], ['drama'], ['fiction', 'history'], ['fiction'], ['description'], ['fiction', 'literature'], ['fiction'], ['fiction'], ['sem tema'], ['poetry'], ['fiction'], ['sem tema'], ['fiction'], ['science fiction', 'fiction', 'short stories'], ['fiction', 'mystery'], ['literature'], ['fiction'], ['sem tema'], ['science fiction', 'fiction', 'short stories'], ['history', 'biography'], ['short stories', 'fiction', 'american'], ['sem tema'], ['poetry'], ['sem tema'], ['history'], ['sem tema'], ['science fiction', 'fiction', 'short stories'], ['literature'], ['literature'], ['history'], ['fiction'], ['sem tema'], ['sem tema'], ['history'], ['history'], ['short stories', 'american', 'fiction'], ['drama'], ['sem tema'], ['sem tema'], ['sem tema'], ['drama'], ['fiction'], ['sem tema'], ['biography'], ['periodicals'], ['sem tema'], ['fiction'], ['fiction', 'humorous stories'], ['sem tema'], ['poetry'], ['description'], ['sem tema'], ['fiction', 'family'], ['periodicals'], ['poetry'], ['fiction'], ['fiction', 'mystery'], ['sem tema'], ['fiction'], ['history'], ['fiction'], ['fiction', 'description'], ['tales', 'fantasy', 'fiction'], ['war', 'personal narratives', 'history'], ['science fiction', 'fiction', 'adventure'], ['science fiction', 'fiction', 'war', 'adventure'], ['fiction', 'mystery'], ['poetry', 'american'], ['sem tema'], ['sem tema'], ['fiction'], ['sem tema'], ['poetry'], ['sem tema'], ['poetry', 'history'], ['periodicals'], ['fiction', 'literature'], ['fiction'], ['sem tema'], ['history'], ['war'], ['american'], ['fiction'], ['nature', 'literature', 'poetry', 'history'], ['fiction', 'short stories'], ['nature'], ['literature'], ['fiction'], ['short stories', 'american', 'fiction'], ['periodicals', 'american'], ['sem tema'], ['historical', 'fiction'], ['sem tema'], ['literature'], ['sem tema'], ['science fiction', 'fiction', 'short stories'], ['sem tema'], ['history'], ['fiction'], ['war', 'fiction'], ['short stories', 'fiction'], ['sem tema'], ['sem tema'], ['fiction', 'adventure'], ['sem tema'], ['sem tema'], ['sem tema'], ['fiction', 'short stories', 'mystery'], ['sem tema'], ['fiction', 'history'], ['war', 'fiction', 'adventure'], ['sem tema'], ['war', 'fiction'], ['history'], ['fiction'], ['fiction'], ['fiction'], ['sem tema'], ['fiction'], ['sem tema'], ['science fiction', 'fiction', 'short stories'], ['description'], ['science fiction', 'fiction', 'short stories'], ['fantasy', 'fiction'], ['periodicals'], ['sem tema'], ['fiction'], ['poetry', 'american'], ['poetry', 'literature'], ['history', 'war'], ['fiction'], ['history'], ['fiction'], ['fiction', 'war'], ['war', 'crime', 'fiction'], ['sem tema'], ['history'], ['periodicals', 'literature'], ['fiction', 'mystery'], ['sem tema'], ['science fiction', 'fiction'], ['sem tema'], ['fiction'], ['fiction'], ['science fiction', 'fiction', 'adventure'], ['sem tema'], ['war'], ['sem tema'], ['periodicals'], ['sem tema'], ['comedy'], ['poetry'], ['sem tema'], ['fiction', 'western'], ['sem tema'], ['mystery', 'fiction'], ['periodicals'], ['short stories'], ['fiction'], ['sem tema'], ['fiction', 'mystery'], ['poetry', 'american'], ['sem tema'], ['fiction'], ['history'], ['science fiction', 'fiction'], ['drama', 'american'], ['sem tema'], ['fiction'], ['sem tema'], ['war', 'fiction'], ['mystery'], ['fantasy', 'fiction'], ['fiction', 'western'], ['fiction', 'adventure', 'american'], ['science fiction', 'fiction', 'short stories'], ['fiction'], ['american'], ['sem tema'], ['horror', 'tales', 'fiction'], ['war', 'personal narratives', 'history', 'biography', 'religious'], ['fiction'], ['fiction'], ['sem tema'], ['war', 'fiction', 'description'], ['sem tema'], ['sem tema'], ['fiction', 'ghost'], ['sem tema'], ['sem tema'], ['sem tema'], ['short stories', 'fiction'], ['sem tema'], ['fiction'], ['poetry'], ['fiction', 'ghost'], ['sem tema'], ['sem tema'], ['adventure', 'fiction'], ['sem tema'], ['war'], ['fiction'], ['sem tema'], ['sem tema'], ['drama'], ['fiction', 'political'], ['sem tema'], ['short stories', 'science fiction', 'fiction', 'american'], ['sem tema'], ['history', 'literature'], ['sem tema'], ['sem tema'], ['fiction', 'fantasy'], ['fiction'], ['fiction'], ['poetry'], ['periodicals'], ['literature'], ['history'], ['history'], ['fiction'], ['sem tema'], ['sem tema'], ['science fiction', 'fiction', 'adventure'], ['history'], ['fiction'], ['short stories', 'horror', 'tales', 'cult', 'fiction'], ['tales', 'poetry'], ['history', 'literature', 'biography'], ['sem tema'], ['fiction'], ['sem tema'], ['sem tema'], ['fiction', 'short stories'], ['american'], ['fiction', 'literature', 'romance'], ['fiction', 'history', 'western'], ['description'], ['poetry'], ['fiction'], ['fiction', 'fantasy'], ['war', 'fiction'], ['sem tema'], ['fiction'], ['sem tema'], ['science fiction', 'fiction', 'short stories'], ['sem tema'], ['war'], ['sem tema'], ['science fiction', 'fiction'], ['periodicals'], ['sem tema'], ['sem tema'], ['literature'], ['sem tema'], ['fiction'], ['american'], ['mystery', 'fiction', 'american'], ['sem tema'], ['sem tema'], ['fiction'], ['short stories', 'fiction', 'american'], ['western'], ['sem tema'], ['western', 'adventure'], ['fiction', 'history'], ['sem tema'], ['periodicals', 'literature'], ['biography', 'war', 'history', 'personal narratives'], ['biography'], ['sem tema'], ['fiction'], ['war', 'personal narratives', 'history'], ['sem tema'], ['war', 'fiction'], ['fiction'], ['sem tema'], ['drama'], ['fiction'], ['sem tema'], ['fiction'], ['political'], ['sem tema'], ['periodicals'], ['poetry'], ['periodicals'], ['fiction', 'short stories'], ['fiction'], ['science fiction', 'fiction'], ['biography', 'american'], ['fiction'], ['fiction'], ['short stories'], ['sem tema'], ['fiction'], ['short stories', 'fiction'], ['short stories', 'fiction'], ['history'], ['fiction'], ['short stories', 'fiction'], ['sem tema'], ['periodicals'], ['fiction', 'war'], ['history'], ['poetry'], ['description'], ['science fiction', 'fiction'], ['sem tema'], ['description', 'literature'], ['fiction'], ['mystery', 'fiction'], ['sem tema'], ['description'], ['fiction'], ['sem tema'], ['sem tema'], ['description'], ['fiction', 'history'], ['history', 'biography'], ['fiction'], ['periodicals'], ['sem tema'], ['adventure', 'fiction'], ['mystery', 'fiction'], ['fiction'], ['fiction', 'history'], ['sem tema'], ['fantasy', 'fiction', 'american'], ['drama'], ['witchcraft'], ['sem tema'], ['fiction'], ['science fiction', 'fiction', 'short stories'], ['fiction'], ['sem tema'], ['sem tema'], ['periodicals', 'literature'], ['science fiction', 'fiction', 'short stories'], ['fiction', 'war', 'history'], ['fiction'], ['drama', 'historical', 'history'], ['adventure', 'fiction'], ['mystery', 'fiction'], ['sem tema'], ['adventure', 'fiction'], ['fiction'], ['periodicals', 'literature'], ['personal narratives', 'history'], ['periodicals'], ['fiction'], ['history'], ['fiction'], ['literature', 'war'], ['sem tema'], ['cult', 'periodicals', 'literature', 'american'], ['fantasy', 'fiction'], ['sem tema'], ['fiction'], ['fiction'], ['sem tema'], ['drama', 'history'], ['poetry'], ['fiction'], ['sem tema'], ['sem tema'], ['short stories'], ['drama', 'history'], ['fantasy', 'fiction', 'horror', 'tales', 'american'], ['fiction'], ['war', 'fiction'], ['war', 'history', 'personal narratives', 'biography'], ['sem tema'], ['fiction'], ['history'], ['fiction', 'adventure'], ['tales'], ['fiction'], ['periodicals'], ['description'], ['sem tema'], ['fiction'], ['sem tema'], ['sem tema'], ['sem tema'], ['sem tema'], ['history', 'literature'], ['sem tema'], ['biography', 'history', 'literature'], ['fiction'], ['tales'], ['description'], ['fiction', 'fantasy'], ['fiction'], ['fiction', 'american'], ['sem tema'], ['poetry'], ['poetry'], ['fiction'], ['war', 'fiction', 'history'], ['sem tema'], ['sem tema'], ['fiction', 'history'], ['fiction'], ['american'], ['science fiction', 'fiction', 'short stories'], ['drama', 'poetry'], ['history', 'literature'], ['war', 'fiction'], ['war', 'fiction', 'history'], ['short stories', 'fiction'], ['fiction'], ['science fiction', 'fiction'], ['war', 'history'], ['fiction'], ['fiction'], ['american', 'war', 'history'], ['fiction'], ['sem tema'], ['short stories', 'american', 'fiction'], ['biography'], ['fiction'], ['adventure', 'fiction'], ['fiction', 'history'], ['description'], ['fiction'], ['science fiction', 'fiction', 'short stories'], ['sem tema'], ['periodicals'], ['sem tema'], ['sem tema'], ['sem tema'], ['sem tema'], ['religious'], ['science fiction', 'periodicals', 'fiction', 'american'], ['science fiction', 'fiction', 'short stories'], ['fiction'], ['history', 'biography'], ['sem tema'], ['adventure', 'mystery', 'fiction'], ['fiction'], ['fiction', 'adventure'], ['fiction'], ['science fiction', 'fiction', 'short stories'], ['fiction', 'humorous stories'], ['adventure', 'fiction'], ['sem tema'], ['history'], ['american', 'history', 'literature'], ['history'], ['science fiction', 'fiction', 'short stories'], ['fiction'], ['sem tema'], ['sem tema'], ['fiction'], ['fiction'], ['history'], ['sem tema'], ['science fiction', 'fiction', 'war'], ['literature'], ['history'], ['fiction'], ['poetry'], ['short stories', 'american'], ['history'], ['war', 'fiction'], ['fiction'], ['sem tema'], ['sem tema'], ['poetry'], ['sem tema'], ['mystery'], ['fiction'], ['sem tema'], ['science fiction', 'fiction', 'short stories'], ['description'], ['periodicals'], ['periodicals', 'american'], ['science fiction', 'fiction'], ['description'], ['description'], ['science fiction', 'fiction', 'short stories'], ['sem tema'], ['description'], ['american'], ['periodicals'], ['fiction'], ['fiction', 'history'], ['literature'], ['war', 'fiction', 'history'], ['drama'], ['fiction'], ['sem tema'], ['history'], ['fiction'], ['science fiction', 'fiction', 'cult'], ['poetry'], ['literature'], ['sem tema'], ['sem tema'], ['fiction'], ['fiction'], ['poetry'], ['sem tema'], ['fantasy', 'fiction'], ['drama'], ['fantasy', 'fiction'], ['history'], ['sem tema'], ['sem tema'], ['science fiction', 'fiction', 'war'], ['short stories', 'fiction'], ['sem tema'], ['war', 'fiction'], ['history'], ['sem tema'], ['horror', 'tales', 'family', 'fiction'], ['description', 'cult'], ['fiction'], ['science fiction', 'fiction', 'short stories'], ['sem tema'], ['sem tema'], ['fiction'], ['fiction'], ['sem tema'], ['fiction'], ['periodicals'], ['sem tema'], ['humorous stories', 'fiction'], ['humorous stories', 'fiction'], ['drama'], ['sem tema'], ['war'], ['description'], ['tales'], ['fiction'], ['fiction', 'mystery'], ['fiction', 'ghost'], ['war', 'fiction', 'history'], ['fiction'], ['sem tema'], ['periodicals'], ['war', 'personal narratives', 'american'], ['fiction', 'war'], ['nature'], ['sem tema'], ['drama'], ['fiction'], ['fiction'], ['literature'], ['fiction'], ['literature'], ['adventure', 'fiction', 'american'], ['fiction'], ['sem tema'], ['drama'], ['fiction', 'history'], ['fiction', 'mystery'], ['adventure', 'fiction', 'literature'], ['short stories', 'fiction'], ['periodicals'], ['fiction', 'american'], ['poetry'], ['history'], ['fiction'], ['description'], ['science fiction', 'fiction'], ['fiction'], ['history'], ['war', 'fiction'], ['sem tema'], ['poetry'], ['mystery', 'fiction'], ['description', 'history'], ['sem tema'], ['fiction', 'sport', 'periodicals', 'literature'], ['fiction', 'short stories', 'mystery'], ['fiction'], ['sem tema'], ['western'], ['fiction'], ['sem tema'], ['war', 'fiction'], ['fiction'], ['poetry'], ['sem tema'], ['description'], ['war', 'personal narratives'], ['literature'], ['war', 'fiction', 'supernatural'], ['historical', 'fiction', 'history'], ['sem tema'], ['description', 'history'], ['description'], ['fantasy', 'fiction'], ['sem tema'], ['sem tema'], ['description', 'history'], ['fiction', 'adventure'], ['sem tema'], ['western', 'fiction', 'war'], ['science fiction', 'fiction', 'short stories'], ['fiction', 'literature'], ['fiction'], ['american', 'history', 'literature'], ['fiction'], ['war'], ['historical', 'fiction', 'history'], ['sem tema'], ['fiction', 'adventure'], ['poetry'], ['sem tema'], ['history'], ['sem tema'], ['description'], ['periodicals', 'american'], ['sem tema'], ['fiction', 'adventure'], ['fiction', 'short stories'], ['periodicals', 'american'], ['fiction'], ['short stories', 'american', 'fiction'], ['science fiction', 'fiction', 'short stories'], ['biography'], ['sem tema'], ['fiction'], ['fiction', 'history'], ['sem tema'], ['science fiction', 'fiction', 'short stories'], ['fiction', 'family', 'history'], ['short stories', 'fiction'], ['sem tema'], ['fiction'], ['history'], ['fiction', 'nature', 'adventure', 'history', 'american'], ['drama', 'american'], ['poetry'], ['poetry'], ['science fiction', 'fiction', 'short stories'], ['fiction', 'mystery'], ['sem tema'], ['sem tema'], ['sem tema'], ['sem tema'], ['fiction', 'western'], ['fiction'], ['tales'], ['biography', 'poetry'], ['sem tema'], ['fiction'], ['fiction'], ['fantasy', 'literature', 'short stories', 'american', 'tales'], ['fiction'], ['fiction'], ['adventure', 'fiction'], ['sem tema'], ['sem tema'], ['history', 'war'], ['fiction', 'history'], ['science fiction', 'fiction', 'short stories'], ['poetry'], ['fiction'], ['war', 'fiction', 'history'], ['sem tema'], ['fiction'], ['sem tema'], ['description'], ['description', 'literature'], ['sem tema'], ['biography'], ['history'], ['nature', 'fiction'], ['periodicals'], ['science fiction', 'fiction', 'short stories'], ['sem tema'], ['science fiction', 'fiction', 'short stories', 'war'], ['sem tema'], ['cult'], ['literature'], ['sem tema'], ['short stories', 'american', 'fiction'], ['fiction'], ['fiction'], ['fiction', 'history'], ['sem tema'], ['poetry'], ['literature'], ['sem tema'], ['periodicals', 'literature', 'american'], ['tales'], ['periodicals'], ['fiction', 'short stories'], ['drama'], ['tales', 'fiction'], ['adventure', 'fiction'], ['periodicals'], ['fiction'], ['poetry'], ['periodicals', 'cult'], ['sem tema'], ['fiction'], ['fiction'], ['sem tema'], ['sem tema'], ['science fiction', 'fiction', 'short stories'], ['drama'], ['biography'], ['science fiction', 'fiction', 'short stories'], ['fiction', 'history'], ['sem tema'], ['fiction', 'american'], ['history'], ['literature'], ['history'], ['sem tema'], ['fiction', 'short stories'], ['historical', 'fiction'], ['literature'], ['short stories'], ['fiction'], ['sem tema'], ['sem tema'], ['american'], ['history'], ['tales'], ['sem tema'], ['fiction', 'history'], ['fiction'], ['war', 'fiction'], ['sem tema'], ['religious', 'periodicals'], ['fiction', 'short stories'], ['periodicals', 'history'], ['fiction', 'literature'], ['drama'], ['comedy', 'drama'], ['historical', 'fiction', 'adventure', 'history'], ['fiction', 'political'], ['fiction'], ['biography'], ['poetry'], ['poetry'], ['sem tema'], ['fiction'], ['mystery'], ['sem tema'], ['sem tema'], ['sem tema'], ['history', 'war'], ['poetry'], ['fiction'], ['poetry'], ['sem tema'], ['fiction'], ['poetry', 'american'], ['sem tema'], ['war', 'fiction', 'history', 'adventure'], ['fiction'], ['sem tema'], ['short stories', 'fiction'], ['fiction'], ['mystery', 'fiction'], ['fiction', 'history'], ['sem tema'], ['description'], ['sem tema'], ['fiction'], ['drama'], ['sem tema'], ['poetry'], ['drama'], ['history'], ['fiction'], ['fiction', 'fantasy', 'literature'], ['fiction'], ['fiction'], ['biography'], ['periodicals', 'literature', 'american'], ['fiction'], ['history'], ['fiction'], ['fantasy', 'fiction'], ['biography', 'american'], ['sem tema'], ['war', 'personal narratives'], ['fiction'], ['history'], ['fiction'], ['fiction', 'war'], ['sem tema'], ['sem tema'], ['history', 'literature'], ['fiction'], ['fiction'], ['poetry'], ['periodicals', 'history'], ['sem tema'], ['fiction'], ['sem tema'], ['periodicals'], ['fiction'], ['biography'], ['periodicals'], ['historical', 'fiction'], ['sem tema'], ['fiction', 'history'], ['literature'], ['sem tema'], ['sem tema'], ['biography', 'history'], ['sem tema'], ['war', 'fiction', 'history'], ['war'], ['literature'], ['periodicals', 'literature'], ['sem tema'], ['biography'], ['sem tema'], ['war'], ['humorous stories', 'fiction'], ['science fiction', 'fiction', 'short stories'], ['sem tema'], ['biography'], ['tales'], ['science fiction', 'fiction'], ['fiction'], ['sem tema'], ['fiction'], ['history'], ['adventure', 'fiction'], ['periodicals'], ['science fiction', 'fiction', 'war'], ['periodicals', 'literature'], ['fiction'], ['fiction'], ['sem tema'], ['history'], ['biography'], ['drama'], ['fiction'], ['drama'], ['american'], ['literature'], ['fiction'], ['fiction'], ['poetry'], ['sem tema'], ['horror', 'tales', 'fiction'], ['sem tema'], ['sem tema'], ['fiction'], ['short stories', 'fiction'], ['fiction', 'war'], ['sem tema'], ['periodicals'], ['historical', 'fiction', 'war', 'political'], ['sem tema'], ['poetry'], ['science fiction', 'fiction', 'short stories', 'mystery'], ['drama'], ['mystery', 'fiction'], ['fiction', 'american', 'war'], ['drama', 'history'], ['sem tema'], ['history'], ['western'], ['description'], ['fiction', 'mystery'], ['fiction'], ['science fiction', 'fiction', 'short stories'], ['sem tema'], ['fantasy', 'fiction'], ['sem tema'], ['sem tema'], ['fiction', 'adventure'], ['war'], ['poetry'], ['periodicals'], ['biography'], ['fiction'], ['sem tema'], ['humorous stories'], ['witchcraft', 'history'], ['sem tema'], ['war'], ['sem tema'], ['drama'], ['sem tema'], ['cult'], ['periodicals', 'literature'], ['sem tema'], ['sem tema'], ['history'], ['history'], ['poetry'], ['poetry'], ['sem tema'], ['fiction'], ['drama'], ['drama'], ['fiction'], ['history', 'war', 'personal narratives'], ['fiction'], ['american'], ['sem tema'], ['biography'], ['biography', 'history'], ['history'], ['drama'], ['science fiction', 'fiction', 'war'], ['sem tema'], ['description', 'american'], ['fiction', 'short stories'], ['literature'], ['fiction'], ['sem tema'], ['fiction', 'humorous stories'], ['fiction'], ['fiction'], ['fiction'], ['sem tema'], ['sem tema'], ['sem tema'], ['periodicals'], ['periodicals'], ['sem tema'], ['sem tema'], ['fiction', 'adventure', 'american'], ['description', 'history'], ['history'], ['fiction'], ['sem tema'], ['poetry'], ['poetry'], ['sem tema'], ['fiction'], ['periodicals'], ['science fiction', 'fiction'], ['drama'], ['periodicals'], ['sem tema'], ['fiction'], ['fiction', 'ghost'], ['fiction'], ['sem tema'], ['sem tema'], ['poetry'], ['sem tema'], ['science fiction', 'fiction', 'short stories'], ['poetry'], ['science fiction', 'fiction', 'short stories'], ['adventure', 'fiction'], ['fiction', 'ghost'], ['fiction'], ['fiction'], ['sem tema'], ['fiction', 'short stories', 'american'], ['history'], ['adventure', 'fiction'], ['history'], ['description'], ['science fiction', 'fiction'], ['sem tema'], ['literature', 'american'], ['fiction'], ['science fiction', 'fiction', 'adventure'], ['sem tema'], ['fiction', 'history', 'religious'], ['sem tema'], ['fiction'], ['sem tema'], ['sem tema'], ['description'], ['drama'], ['adventure', 'war', 'personal narratives', 'history'], ['fiction'], ['sem tema'], ['drama'], ['fiction'], ['periodicals', 'literature'], ['ghost'], ['description'], ['fiction', 'short stories'], ['war', 'fiction', 'history'], ['sem tema'], ['sem tema'], ['sem tema'], ['fiction'], ['sem tema'], ['sem tema'], ['poetry'], ['war', 'poetry'], ['drama'], ['literature', 'biography', 'history'], ['sem tema'], ['sem tema'], ['fiction'], ['literature'], ['periodicals', 'literature'], ['sem tema'], ['science fiction', 'fiction', 'short stories'], ['history'], ['sem tema'], ['fiction'], ['fiction'], ['poetry'], ['fiction'], ['tales'], ['fiction'], ['fiction'], ['war', 'fiction'], ['sem tema'], ['fiction'], ['history', 'nature'], ['short stories', 'fiction'], ['sem tema'], ['periodicals'], ['poetry', 'history'], ['sem tema'], ['fiction'], ['fiction', 'fantasy', 'adventure'], ['sem tema'], ['fiction', 'history'], ['sem tema'], ['fiction'], ['sem tema'], ['sem tema'], ['western', 'fiction'], ['war', 'fiction', 'history'], ['history'], ['short stories', 'horror', 'tales', 'fiction'], ['religious'], ['periodicals'], ['sem tema'], ['sem tema'], ['poetry'], ['periodicals', 'american'], ['periodicals'], ['tales'], ['science fiction', 'fiction', 'short stories'], ['sem tema'], ['history'], ['american', 'fiction', 'history'], ['war', 'fiction'], ['short stories', 'ghost'], ['drama'], ['historical', 'fiction', 'history'], ['periodicals'], ['fiction', 'adventure'], ['cult'], ['fiction', 'mystery'], ['periodicals'], ['fiction'], ['adventure', 'fiction', 'history'], ['sem tema'], ['sem tema'], ['sem tema'], ['sem tema'], ['historical', 'fiction', 'history'], ['sem tema'], ['drama'], ['fiction'], ['history'], ['fiction'], ['poetry'], ['poetry', 'american', 'tales'], ['sem tema'], ['fiction'], ['sem tema'], ['fiction'], ['fiction'], ['short stories', 'american', 'fiction', 'historical'], ['fiction', 'history'], ['fiction'], ['literature'], ['sem tema'], ['fiction', 'short stories'], ['history'], ['drama'], ['history', 'literature'], ['sem tema'], ['western', 'fiction'], ['periodicals'], ['fiction'], ['periodicals'], ['biography'], ['fiction'], ['fiction'], ['short stories', 'american', 'fiction'], ['poetry'], ['history'], ['poetry'], ['periodicals'], ['drama'], ['fiction'], ['poetry', 'history'], ['fiction', 'mystery'], ['science fiction', 'fiction', 'short stories'], ['poetry', 'american', 'biography'], ['history'], ['description'], ['science fiction', 'fiction', 'short stories'], ['biography'], ['sem tema'], ['description'], ['sem tema'], ['periodicals'], ['war', 'fiction'], ['history'], ['historical', 'fiction', 'war'], ['fiction', 'religious'], ['history'], ['poetry'], ['sem tema'], ['poetry'], ['sem tema'], ['fiction'], ['poetry'], ['science fiction', 'fiction', 'adventure'], ['sem tema'], ['american'], ['fiction'], ['science fiction', 'fiction'], ['sem tema'], ['science fiction', 'fiction', 'adventure'], ['sem tema'], ['literature'], ['fiction'], ['periodicals', 'history', 'literature'], ['science fiction', 'fiction'], ['poetry'], ['sem tema'], ['fiction', 'family'], ['sem tema'], ['sem tema'], ['literature'], ['periodicals'], ['biography'], ['fiction'], ['fiction'], ['sem tema'], ['sem tema'], ['periodicals'], ['sem tema'], ['war', 'american'], ['drama'], ['fiction'], ['drama'], ['biography'], ['fiction'], ['periodicals'], ['fiction'], ['fiction'], ['poetry'], ['sem tema'], ['fiction'], ['periodicals'], ['sem tema'], ['short stories', 'fantasy', 'fiction', 'horror', 'tales'], ['fiction'], ['sem tema'], ['fiction', 'romance'], ['sem tema'], ['science fiction', 'fiction', 'short stories'], ['science fiction', 'fiction', 'short stories'], ['periodicals'], ['history'], ['sem tema'], ['fiction', 'short stories', 'american'], ['sem tema'], ['sem tema'], ['sem tema'], ['war', 'fiction', 'history'], ['fiction'], ['american'], ['science fiction', 'fiction', 'short stories'], ['fiction'], ['sem tema'], ['periodicals', 'american'], ['sem tema'], ['sem tema'], ['fiction'], ['tales'], ['sem tema'], ['periodicals'], ['tales'], ['literature'], ['fiction'], ['science fiction', 'fiction', 'short stories'], ['poetry'], ['fiction', 'history'], ['history'], ['fiction'], ['poetry', 'history'], ['war'], ['fiction'], ['sem tema'], ['fiction'], ['war'], ['sem tema'], ['sem tema'], ['mystery', 'fiction'], ['sem tema'], ['sem tema'], ['science fiction', 'fiction'], ['drama'], ['sem tema'], ['sem tema'], ['fiction'], ['sem tema'], ['short stories', 'fiction'], ['fiction'], ['fiction'], ['biography', 'literature'], ['science fiction', 'fiction', 'short stories'], ['socialism', 'biography'], ['sem tema'], ['fiction'], ['fiction'], ['fiction', 'adventure'], ['history'], ['sem tema'], ['poetry'], ['sem tema'], ['history'], ['fiction'], ['fiction'], ['fiction'], ['sem tema'], ['science fiction', 'fiction'], ['history'], ['sem tema'], ['fiction'], ['description'], ['fiction', 'mystery'], ['sem tema'], ['sem tema'], ['fiction'], ['fiction'], ['fiction'], ['sem tema'], ['drama', 'american'], ['sem tema'], ['sem tema'], ['poetry'], ['fiction'], ['history'], ['supernatural'], ['sem tema'], ['history', 'literature'], ['literature'], ['fiction'], ['fiction'], ['fantasy', 'literature', 'fiction'], ['fiction'], ['history'], ['war'], ['fiction'], ['fiction'], ['cult', 'war'], ['sem tema'], ['war', 'poetry'], ['history'], ['sem tema'], ['science fiction', 'fiction', 'short stories'], ['fiction'], ['fiction', 'political'], ['drama'], ['fiction'], ['humorous stories', 'fiction'], ['history'], ['history'], ['description'], ['science fiction', 'fiction', 'short stories', 'humorous stories'], ['description'], ['biography'], ['short stories', 'western', 'fiction'], ['socialism'], ['short stories', 'periodicals', 'literature'], ['literature'], ['sem tema'], ['fiction'], ['science fiction', 'fiction', 'war'], ['science fiction', 'fiction', 'short stories', 'political'], ['periodicals'], ['description'], ['periodicals'], ['war', 'fiction', 'history'], ['sem tema'], ['sem tema'], ['sem tema'], ['mystery'], ['history'], ['sem tema'], ['sem tema'], ['fiction'], ['fiction'], ['fiction', 'adventure'], ['fiction'], ['fiction'], ['fiction'], ['periodicals'], ['fiction'], ['periodicals', 'literature'], ['periodicals'], ['science fiction', 'fiction', 'short stories', 'war'], ['periodicals'], ['description'], ['fiction'], ['fiction'], ['sem tema'], ['fiction'], ['sem tema'], ['fiction'], ['war'], ['fiction'], ['historical', 'fiction', 'history', 'romance'], ['mystery', 'fiction'], ['sem tema'], ['fiction'], ['fiction'], ['drama'], ['sem tema'], ['poetry'], ['fiction', 'mystery'], ['fiction'], ['description'], ['poetry', 'american'], ['description'], ['sem tema'], ['fiction'], ['sem tema'], ['science fiction', 'fiction', 'short stories'], ['periodicals'], ['historical', 'fiction', 'adventure'], ['fiction'], ['sem tema'], ['fiction'], ['description'], ['fantasy', 'fiction'], ['western'], ['science fiction', 'fiction', 'short stories'], ['sem tema'], ['poetry'], ['history'], ['description'], ['sport', 'fiction'], ['political', 'literature'], ['nature'], ['fantasy', 'fiction'], ['sem tema'], ['horror', 'tales', 'supernatural', 'fiction', 'mystery', 'ghost']] \n",
      " 4936\n"
     ]
    }
   ],
   "source": [
    "# basicamente eu to recriando as listas de temas, mas com os generos q eu fiz\n",
    "temas_tratados = []\n",
    "\n",
    "for j in dados[\"temas\"]: \n",
    "    generos_tema = [] \n",
    "    if isinstance(j, list): \n",
    "        for t in j: \n",
    "            for i in generos: \n",
    "                if i.lower() in t.lower():  \n",
    "                    generos_tema.append(i.lower())\n",
    "                    generos_tema = list(dict.fromkeys(generos_tema)) # tira os duplicados pq dicionario n pode ter duplicado\n",
    "    if generos_tema == []:\n",
    "        temas_tratados.append([\"sem tema\"])\n",
    "    else:\n",
    "        temas_tratados.append(generos_tema)  \n",
    "\n",
    "print(temas_tratados, \"\\n\", len(temas_tratados)) # vou deixar sem o output pra n ferrar o git tbm"
   ]
  },
  {
   "cell_type": "code",
   "execution_count": 16,
   "metadata": {},
   "outputs": [],
   "source": [
    "dados[\"temas_trat\"] = temas_tratados"
   ]
  },
  {
   "cell_type": "code",
   "execution_count": 18,
   "metadata": {},
   "outputs": [],
   "source": [
    "temas = dados.explode('temas_trat')"
   ]
  },
  {
   "cell_type": "code",
   "execution_count": 19,
   "metadata": {},
   "outputs": [
    {
     "data": {
      "text/plain": [
       "temas_trat\n",
       "fiction                1929\n",
       "sem tema               1218\n",
       "history                 658\n",
       "short stories           334\n",
       "periodicals             271\n",
       "war                     270\n",
       "poetry                  260\n",
       "science fiction         259\n",
       "literature              253\n",
       "american                229\n",
       "description             193\n",
       "drama                   191\n",
       "biography               156\n",
       "adventure               135\n",
       "mystery                 118\n",
       "tales                    80\n",
       "historical               70\n",
       "fantasy                  59\n",
       "western                  47\n",
       "humorous stories         42\n",
       "cult                     34\n",
       "personal narratives      29\n",
       "romance                  29\n",
       "political                24\n",
       "family                   22\n",
       "ghost                    19\n",
       "religious                16\n",
       "sport                    13\n",
       "horror                   13\n",
       "comedy                   13\n",
       "crime                    12\n",
       "socialism                11\n",
       "nature                   10\n",
       "supernatural              6\n",
       "witchcraft                6\n",
       "Name: url, dtype: int64"
      ]
     },
     "execution_count": 19,
     "metadata": {},
     "output_type": "execute_result"
    }
   ],
   "source": [
    "temas.groupby(\"temas_trat\")[\"url\"].count().sort_values(ascending=False)"
   ]
  },
  {
   "cell_type": "code",
   "execution_count": 20,
   "metadata": {},
   "outputs": [
    {
     "name": "stdout",
     "output_type": "stream",
     "text": [
      "          temas_trat  sentimento\n",
      "24           romance    0.143448\n",
      "21            poetry    0.123121\n",
      "30      supernatural    0.117915\n",
      "16        literature    0.115557\n",
      "15  humorous stories    0.114019\n",
      "         temas_trat  sentimento\n",
      "25  science fiction    0.041341\n",
      "17          mystery    0.036588\n",
      "4             crime    0.028844\n",
      "34       witchcraft   -0.005373\n",
      "14           horror   -0.033411\n"
     ]
    }
   ],
   "source": [
    "#vamos refazer aquela analise aumentando o data frame criando um linha pra cada tema por história\n",
    "temas = dados.explode(\"temas_trat\")\n",
    "\n",
    "sentimento_por_tema = temas.groupby('temas_trat')['sentimento'].mean().reset_index()\n",
    "\n",
    "print(sentimento_por_tema.sort_values(by='sentimento', ascending=False).head(5))\n",
    "print(sentimento_por_tema.sort_values(by='sentimento', ascending=False).tail(5))\n"
   ]
  },
  {
   "cell_type": "markdown",
   "metadata": {},
   "source": [
    "##### Conseguimos ver que apesar de a análise de sentimento colocar pouco peso nos sentimentos, isso também pode ser decorrente de os resumos serem gerados por uma IA e tentarem ser feitos da maneira mais imparcial possível, porém conseguimos perceber que os sentimentos mais negativos (que no casor receberam nota para serem neutros) tendem a concetrar temas mais negativos ou que não são para todos os publicos como horror, mistério, crimes. Quando olhamos os mais positivos conseguimos ver romance, poesia literatura e histórias de humor. Portanto mesmo com limitações parece que conseguimos ver uma separação entre os temas."
   ]
  },
  {
   "cell_type": "code",
   "execution_count": 21,
   "metadata": {},
   "outputs": [
    {
     "name": "stdout",
     "output_type": "stream",
     "text": [
      "          temas_trat  subjetividade\n",
      "31             tales       0.547830\n",
      "9            fantasy       0.543200\n",
      "15  humorous stories       0.537224\n",
      "25   science fiction       0.531131\n",
      "14            horror       0.523099\n",
      "             temas_trat  subjetividade\n",
      "6           description       0.399682\n",
      "13              history       0.383613\n",
      "23            religious       0.383572\n",
      "20  personal narratives       0.378630\n",
      "28            socialism       0.374635\n"
     ]
    }
   ],
   "source": [
    "#vamos agora analisar a objetividade por tema e ver se isso pode ser um dos causadores de os sentimentos serem baixos.\n",
    "\n",
    "subjetividade_por_tema = temas.groupby('temas_trat')['subjetividade'].mean().reset_index()\n",
    "\n",
    "print(subjetividade_por_tema.sort_values(by=\"subjetividade\", ascending=False).head(5))\n",
    "print(subjetividade_por_tema.sort_values(by=\"subjetividade\", ascending=False).tail(5))\n"
   ]
  },
  {
   "cell_type": "markdown",
   "metadata": {},
   "source": [
    "##### Analisando a subjetividade, conseguimos perceber que nenhum dos resumos é muito objetivo dado que o menor deles é 0.37 e o maior 0.54 que é praticamente neutro, portanto acredita-se que isso pode afetar um pouco a análise de sentimento realizada. No geral não foi possível obter tantas conclusões com a análise realizada, pois os valores da análise de sentimento do texto foram baixos. Porém também devemos levar me consideração que os resumos foram escritos por uma IA e tentam ser imparciais, de maneira que apenas digam o que se esperar da história, portanto a neutralidade obtida pode ser esperada."
   ]
  }
 ],
 "metadata": {
  "kernelspec": {
   "display_name": "Python 3",
   "language": "python",
   "name": "python3"
  },
  "language_info": {
   "codemirror_mode": {
    "name": "ipython",
    "version": 3
   },
   "file_extension": ".py",
   "mimetype": "text/x-python",
   "name": "python",
   "nbconvert_exporter": "python",
   "pygments_lexer": "ipython3",
   "version": "3.12.6"
  }
 },
 "nbformat": 4,
 "nbformat_minor": 2
}
